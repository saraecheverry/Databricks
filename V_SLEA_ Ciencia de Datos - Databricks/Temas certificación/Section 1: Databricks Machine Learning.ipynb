{
 "cells": [
  {
   "cell_type": "markdown",
   "metadata": {
    "application/vnd.databricks.v1+cell": {
     "cellMetadata": {},
     "inputWidgets": {},
     "nuid": "76f8d560-1366-419d-9669-bea96be96cfc",
     "showTitle": false,
     "tableResultSettingsMap": {},
     "title": ""
    }
   },
   "source": [
    "# Identify the best practices of an MLOps strategy"
   ]
  },
  {
   "cell_type": "markdown",
   "metadata": {
    "application/vnd.databricks.v1+cell": {
     "cellMetadata": {},
     "inputWidgets": {},
     "nuid": "efbb2026-163d-4dcd-a651-f85c8b18f4f5",
     "showTitle": false,
     "tableResultSettingsMap": {},
     "title": ""
    }
   },
   "source": [
    "## 🧠 Conceptos clave que debes dominar\n",
    "\n",
    "| Categoría                      | Buenas prácticas                                                         | En Databricks…                                                            |\n",
    "| ------------------------------ | ------------------------------------------------------------------------ | ------------------------------------------------------------------------- |\n",
    "| **Ciclo de vida reproducible** | Usar pipelines reproducibles para entrenamiento, validación y despliegue | Usa MLflow (tracking y proyectos) y notebooks versionados                 |\n",
    "| **Tracking de experimentos**   | Registrar automáticamente métricas, parámetros y artefactos              | `mlflow.start_run()`, `mlflow.log_metric()`, etc.                         |\n",
    "| **Gestión de modelos**         | Registrar modelos con versión, etapa (`Staging`, `Production`) y alias   | Usa MLflow Model Registry (de Unity Catalog si es posible)                |\n",
    "| **Feature consistency**        | Reutilizar y centralizar features a través del **Feature Store**         | Usa `FeatureStoreClient`, tablas offline y online                         |\n",
    "| **Despliegue automatizado**    | Automatizar el paso de entrenamiento a producción mediante CI/CD         | Integra con repositorios Git + Jobs + REST APIs                           |\n",
    "| **Validación de modelos**      | Validación automática (unit tests, benchmarks) antes de promover         | Implementar validadores dentro de pipelines o con notebooks de validación |\n",
    "| **Gobernanza y auditoría**     | Control de accesos, trazabilidad de runs, versionado de código/modelos   | Usa Unity Catalog y MLflow para registrar todo                            |\n",
    "| **Monitoreo post-despliegue**  | Monitorear performance de modelos en producción (drift, errores)         | Logs personalizados, uso de dashboards (ej. Databricks SQL)               |\n",
    "| **Promoción controlada**       | Promover modelos con alias (`Champion`, `Challenger`) y rollback         | Usa `set_registered_model_alias()` y validación manual o automática       |\n",
    "| **Separación de entornos**     | Desarrollo, staging y producción deben estar claramente separados        | Usa workspaces, clusters o UC para aislar entornos                        |\n"
   ]
  },
  {
   "cell_type": "markdown",
   "metadata": {
    "application/vnd.databricks.v1+cell": {
     "cellMetadata": {},
     "inputWidgets": {},
     "nuid": "0cf196b4-7a08-4183-9978-69667140bb2e",
     "showTitle": false,
     "tableResultSettingsMap": {},
     "title": ""
    }
   },
   "source": [
    "## 📌 Puntos claves\n",
    "🔁 **Ciclo de vida del modelo**\n",
    "\n",
    "- MLOps automatiza: entrenamiento → validación → registro → despliegue → monitoreo.\n",
    "- Siempre busca reproducibilidad → versión de código, datos, modelos y features."
   ]
  },
  {
   "cell_type": "markdown",
   "metadata": {
    "application/vnd.databricks.v1+cell": {
     "cellMetadata": {},
     "inputWidgets": {},
     "nuid": "af78a4dd-ba1c-474f-8640-47eef9f528b9",
     "showTitle": false,
     "tableResultSettingsMap": {},
     "title": ""
    }
   },
   "source": [
    "### 🧠 Best practices clave que debes conocer\n",
    "| Práctica                   | Qué recordar                                                  |\n",
    "| -------------------------- | ------------------------------------------------------------- |\n",
    "| **Tracking**               | Siempre registra métricas, parámetros y artefactos            |\n",
    "| **Versionado**             | Versiona modelo + código + datos para trazabilidad            |\n",
    "| **Validación**             | Usa métricas + visuales + revisión humana antes de promover   |\n",
    "| **Feature Store**          | Garantiza consistencia entre training y serving               |\n",
    "| **Separación de entornos** | Usa staging vs producción para minimizar riesgos              |\n",
    "| **Alias en modelos**       | `Champion` es el modelo activo, `Challenger` es el competidor |\n",
    "| **Gobernanza UC**          | Unity Catalog permite centralizar permisos y versiones        |\n",
    "\n",
    "## 🆚 Diferencias comunes para memorizar\n",
    "| Concepto A                      | vs | Concepto B                 | Diferencia clave                                                         |\n",
    "| ------------------------------- | -- | -------------------------- | ------------------------------------------------------------------------ |\n",
    "| **MLflow Registry (workspace)** | vs | **Unity Catalog Registry** | El primero es local al workspace, el segundo es global y gobernado       |\n",
    "| **Promover modelos**            | vs | **Promover código**        | Promover código es para notebooks/scripts; modelos para flujos validados |\n",
    "| **Online features**             | vs | **Offline features**       | Online: baja latencia, serving; Offline: batch, training                 |\n"
   ]
  },
  {
   "cell_type": "markdown",
   "metadata": {
    "application/vnd.databricks.v1+cell": {
     "cellMetadata": {},
     "inputWidgets": {},
     "nuid": "96a69500-eca0-48ed-971b-e2a23084d6a7",
     "showTitle": false,
     "tableResultSettingsMap": {},
     "title": ""
    }
   },
   "source": [
    "# Identify the advantages of using ML runtimes"
   ]
  },
  {
   "cell_type": "markdown",
   "metadata": {
    "application/vnd.databricks.v1+cell": {
     "cellMetadata": {},
     "inputWidgets": {},
     "nuid": "556e4973-68eb-4648-a517-62ebf14170ea",
     "showTitle": false,
     "tableResultSettingsMap": {},
     "title": ""
    }
   },
   "source": [
    "## 🧠 ¿Qué es un ML Runtime en Databricks?\n",
    "Un ML Runtime es una versión de entorno preconfigurado en Databricks que incluye:\n",
    "\n",
    "- Librerías de machine learning más usadas\n",
    "- Integración lista con MLflow\n",
    "- Compatibilidad con GPU/TPU (según instancia)\n",
    "- Compatibilidad con Spark para trabajo distribuido\n",
    "- Soporte para AutoML, Feature Store y Model Serving\n",
    "- Es como un \"conda env\" + Spark + MLflow listo para usar."
   ]
  },
  {
   "cell_type": "markdown",
   "metadata": {
    "application/vnd.databricks.v1+cell": {
     "cellMetadata": {},
     "inputWidgets": {},
     "nuid": "93ed82a1-1727-4918-9000-18604dc53869",
     "showTitle": false,
     "tableResultSettingsMap": {},
     "title": ""
    }
   },
   "source": [
    "## 📌 Puntos claves\n",
    "\n",
    "| **Ventaja**                                            | **Explicación clara**                                                                                          | **Término clave a recordar** |\n",
    "| ------------------------------------------------------ | -------------------------------------------------------------------------------------------------------------- | ---------------------------- |\n",
    "| 🔌 **Preconfigurado**                                  | Incluye `scikit-learn`, `xgboost`, `tensorflow`, `pytorch`, `mlflow`, etc. sin necesidad de instalación manual | \"Listo para usar\"            |\n",
    "| 🧩 **Integración total con MLflow**                    | No necesitas configurar tracking, UI, ni artifacts: ya viene integrado                                         | \"MLflow nativo\"              |\n",
    "| 🧠 **Soporte para AutoML**                             | AutoML en Databricks solo está disponible en ML Runtime                                                        | \"AutoML solo en ML Runtime\"  |\n",
    "| 🧱 **Compatible con Feature Store**                    | Solo disponible cuando usas ML Runtime en clusters de tipo `ml`                                                | \"Feature Store funcional\"    |\n",
    "| 🚀 **Optimizado para GPU y deep learning**             | Versiones de ML Runtime tienen builds con CUDA/cuDNN listos para usar                                          | \"GPU-ready\"                  |\n",
    "| 🧪 **Entorno consistente para entrenar y servir**      | Permite que el modelo sea entrenado y desplegado en el mismo entorno (¡menos errores!)                         | \"Same environment\"           |\n",
    "| 🔒 **Seguridad y mantenimiento oficial**               | Actualizado por Databricks con parches, dependencias seguras y validación                                      | \"Mantenido por Databricks\"   |\n",
    "| ⚙️ **Soporte para clusters compartidos y autoscaling** | Se puede usar con clusters dinámicos para batch y producción                                                   | \"Optimizado Spark + ML\"      |\n",
    "\n",
    "\n",
    "## Casos donde usar ML Runtime te da ventaja\n",
    "\n",
    "| Escenario                                                   | ¿Por qué usar ML Runtime?                  |\n",
    "| ----------------------------------------------------------- | ------------------------------------------ |\n",
    "| Quieres hacer pruebas con AutoML rápido                     | Está disponible solo en ML Runtime         |\n",
    "| Quieres registrar métricas en MLflow automáticamente        | ML Runtime lo hace sin configuración       |\n",
    "| Necesitas entrenar un modelo con PyTorch en GPU             | Hay ML Runtime con soporte para CUDA       |\n",
    "| Quieres servir un modelo con Databricks Model Serving       | ML Runtime garantiza compatibilidad        |\n",
    "| Usas Feature Store para features de entrenamiento y scoring | Solo funciona completamente con ML Runtime |\n"
   ]
  },
  {
   "cell_type": "markdown",
   "metadata": {
    "application/vnd.databricks.v1+cell": {
     "cellMetadata": {},
     "inputWidgets": {},
     "nuid": "8a9eb8b2-4b6b-4963-9cfb-21ffe865a3b8",
     "showTitle": false,
     "tableResultSettingsMap": {},
     "title": ""
    }
   },
   "source": [
    "# Identify how AutoML facilitates model/feature selection"
   ]
  },
  {
   "cell_type": "markdown",
   "metadata": {
    "application/vnd.databricks.v1+cell": {
     "cellMetadata": {},
     "inputWidgets": {},
     "nuid": "791e1449-8385-430f-bd33-6b26e5516f3f",
     "showTitle": false,
     "tableResultSettingsMap": {},
     "title": ""
    }
   },
   "source": [
    "## ¿Qué hace AutoML en Databricks?\n",
    "AutoML en Databricks automatiza gran parte del proceso de entrenamiento de modelos. En particular:\n",
    "\n",
    "- Prueba varios algoritmos (modelos) automáticamente\n",
    "- Hace selección de features relevantes\n",
    "- Aplica técnicas de preprocesamiento y transformación\n",
    "- Ajusta hiperparámetros con search space razonable\n",
    "- Genera un notebook reutilizable y reproducible\n",
    "\n",
    "\n",
    "## ¿Cómo facilita la selección de modelos y features?\n",
    "| Función                                         | ¿Cómo AutoML lo hace por ti?                                                                                                 | ¿Por qué es útil?                                              |\n",
    "| ----------------------------------------------- | ---------------------------------------------------------------------------------------------------------------------------- | -------------------------------------------------------------- |\n",
    "| 🧠 **Prueba múltiples modelos automáticamente** | Prueba `LogisticRegression`, `RandomForest`, `XGBoost`, etc., y compara métricas como accuracy, ROC AUC, RMSE, etc.          | Ahorra tiempo; puedes elegir el mejor modelo sin codificar     |\n",
    "| 🧪 **Selecciona features relevantes**           | Aplica técnicas de importancia de variables (ej. `feature_importances_` o SHAP) y elimina features irrelevantes o colineales | Mejora performance y evita overfitting                         |\n",
    "| 🧹 **Hace preprocesamiento automático**         | Imputación de valores nulos, codificación de variables categóricas, escalado de variables continuas                          | Evita errores comunes y garantiza inputs válidos para modelos  |\n",
    "| 📊 **Entrega métricas comparativas**            | Genera tabla de runs con métricas por modelo                                                                                 | Puedes analizar resultados y justificar la elección del modelo |\n",
    "| 🧱 **Genera notebook con el mejor pipeline**    | El código completo con steps, hiperparámetros, evaluación, etc.                                                              | Puedes reproducir, mejorar o usar como base para producción    |\n",
    "\n",
    "\n",
    "## ¿Qué ocurre internamente?\n",
    "Cuando ejecutas:\n",
    "\n",
    "```python\n",
    "import databricks.automl\n",
    "summary = databricks.automl.classify(df, target_col=\"y\")\n",
    "```\n",
    "\n",
    "Databricks AutoML:\n",
    "\n",
    "- Detecta automáticamente los tipos de columnas (numéricas, categóricas, fecha, etc.)\n",
    "- Realiza limpieza básica: elimina columnas constantes, llena nulos, etc.\n",
    "- Hace ingeniería de características (p. ej., one-hot encoding, extracción de fecha)\n",
    "- Corre múltiples modelos como:\n",
    "  - LogisticRegression\n",
    "  - LightGBM\n",
    "  - XGBoost\n",
    "  - RandomForest\n",
    "- Evalúa modelos con métricas como f1, precision, roc_auc, etc.\n",
    "- Registra cada experimento en MLflow Tracking\n",
    "- Te devuelve:\n",
    "  - El mejor modelo\n",
    "  - Notebook del pipeline completo\n",
    "  - MLflow experiment con todas las ejecuciones"
   ]
  },
  {
   "cell_type": "markdown",
   "metadata": {
    "application/vnd.databricks.v1+cell": {
     "cellMetadata": {},
     "inputWidgets": {},
     "nuid": "f64eca88-5fe4-41ff-8da3-5997a7e76969",
     "showTitle": false,
     "tableResultSettingsMap": {},
     "title": ""
    }
   },
   "source": [
    "## 📌 Puntos claves\n",
    "\n",
    "| Pregunta típica                                                 | Respuesta esperada                                                    |\n",
    "| --------------------------------------------------------------- | --------------------------------------------------------------------- |\n",
    "| ¿Cómo facilita AutoML la selección de modelo?                   | Ejecuta múltiples modelos y compara métricas automáticamente          |\n",
    "| ¿Cómo ayuda AutoML con la selección de features?                | Evalúa la importancia de variables y elimina las irrelevantes         |\n",
    "| ¿Qué beneficio clave ofrece AutoML para el proceso de modelado? | Genera automáticamente un notebook con el mejor pipeline reproducible |\n",
    "| ¿Dónde puedes comparar el rendimiento de los modelos?           | En el experimento de MLflow que AutoML crea automáticamente           |\n"
   ]
  },
  {
   "cell_type": "markdown",
   "metadata": {
    "application/vnd.databricks.v1+cell": {
     "cellMetadata": {},
     "inputWidgets": {},
     "nuid": "343893bc-56fc-4aba-9666-cb7c4915c073",
     "showTitle": false,
     "tableResultSettingsMap": {},
     "title": ""
    }
   },
   "source": [
    "# Identify the advantages AutoML brings to the model development process"
   ]
  },
  {
   "cell_type": "markdown",
   "metadata": {
    "application/vnd.databricks.v1+cell": {
     "cellMetadata": {},
     "inputWidgets": {},
     "nuid": "b4834a1d-e89f-485e-871f-a4fae2d5f01c",
     "showTitle": false,
     "tableResultSettingsMap": {},
     "title": ""
    }
   },
   "source": [
    "## 📌 Puntos claves\n",
    "\n",
    "| Etapa del proceso                                      | ¿Qué hace AutoML?                                                               | Ventaja clave                                             |\n",
    "| ------------------------------------------------------ | ------------------------------------------------------------------------------- | --------------------------------------------------------- |\n",
    "| 📦 **Carga y limpieza de datos**                       | Detecta tipos de columnas, rellena nulos, descarta columnas vacías o constantes | Reduce errores de entrada y tiempo de preparación         |\n",
    "| 🧼 **Preprocesamiento automático**                     | Aplica one-hot encoding, escalado, transformaciones temporales, etc.            | Evita código redundante y asegura inputs válidos          |\n",
    "| 🧠 **Selección automática de modelos y features**      | Corre múltiples algoritmos y selecciona el mejor según métricas                 | Acelera la exploración y evita sesgos del analista        |\n",
    "| 🧪 **Entrenamiento automático y optimización**         | Ajusta hiperparámetros con lógica propia (ej. grid/random search)               | Ahorra tiempo y mejora la performance sin intervención    |\n",
    "| 📊 **Evaluación automática**                           | Muestra comparaciones de métricas: ROC AUC, RMSE, F1, etc.                      | Facilita decisiones sin necesidad de graficar manualmente |\n",
    "| 📝 **Notebook generado automáticamente**               | Entrega notebook 100 % editable y reproducible del mejor pipeline               | Acelera producción y aprendizaje del proceso              |\n",
    "| 🔄 **Integración con MLflow**                          | Registra experimentos, parámetros, métricas, modelos y código                   | Garantiza trazabilidad y reproducibilidad                 |\n",
    "| 🚀 **Escalabilidad con Spark y clusters distribuidos** | Corre en Spark clusters si el dataset es grande                                 | Permite manejar datasets grandes sin reescribir código    |\n",
    "\n",
    "\n",
    "## 🧠 Flashcards mentales para memorizar\n",
    "- AutoML reduce el tiempo de desarrollo → automatiza desde limpieza hasta evaluación\n",
    "- AutoML genera código reutilizable → notebook editable y listo para producción\n",
    "- AutoML integra con MLflow → todo el tracking ya está hecho\n",
    "- AutoML escala en Spark → puedes usarlo con datasets grandes\n",
    "- AutoML mejora productividad y precisión → compara modelos con criterios objetivos"
   ]
  },
  {
   "cell_type": "markdown",
   "metadata": {
    "application/vnd.databricks.v1+cell": {
     "cellMetadata": {},
     "inputWidgets": {},
     "nuid": "dd3bb8df-166e-45fb-8a02-b0cf582f572d",
     "showTitle": false,
     "tableResultSettingsMap": {},
     "title": ""
    }
   },
   "source": [
    "# Identify the benefits of creating feature store tables at the account level in Unity Catalog in Databricks vs at the workspace level\n"
   ]
  },
  {
   "cell_type": "markdown",
   "metadata": {
    "application/vnd.databricks.v1+cell": {
     "cellMetadata": {},
     "inputWidgets": {},
     "nuid": "581d3bd7-d6f2-4ca7-98e7-637378c46680",
     "showTitle": false,
     "tableResultSettingsMap": {},
     "title": ""
    }
   },
   "source": [
    "## ✅ Contexto: Qué es el Feature Store en Databricks\n",
    "El Feature Store de Databricks es un sistema centralizado para gestionar, versionar y reutilizar características (features) para modelos de ML. Permite:\n",
    "\n",
    "Definir, almacenar y documentar features.\n",
    "\n",
    "Compartir features entre equipos.\n",
    "\n",
    "Acceder a las features de forma consistente tanto en entrenamiento como en inferencia.\n",
    "\n",
    "## 🔍 Diferencia clave: Nivel de cuenta (Account-level / Unity Catalog) vs Nivel de workspace\n",
    "\n",
    "| Aspecto                   | Workspace-level Feature Store                                            | Unity Catalog (Account-level) Feature Store                                                                                |\n",
    "| ------------------------- | ------------------------------------------------------------------------ | -------------------------------------------------------------------------------------------------------------------------- |\n",
    "| **Scope**                 | Solo accesible desde el workspace en que fue creado.                     | Accesible desde todos los workspaces que usen Unity Catalog dentro de la misma cuenta.                                     |\n",
    "| **Governanza**            | Gestión limitada por workspace.                                          | Control total a través de UC: roles, permisos, lineage, etc.                                                               |\n",
    "| **Reutilización**         | Limitada: features deben recrearse si se quieren usar en otro workspace. | Alta reutilización: features se centralizan y pueden compartirse globalmente.                                              |\n",
    "| **Seguridad y auditoría** | Permisos locales del workspace.                                          | Seguridad avanzada con Unity Catalog, incluyendo **Auditing**, **Data Lineage**, y **Fine-grained Access Control (ABAC)**. |\n",
    "| **Escalabilidad**         | Difícil de escalar a nivel organización.                                 | Ideal para equipos grandes, entornos multicloud o multiworkspaces.                                                         |\n",
    "| **Colaboración**          | Features aislados por workspace.                                         | Promueve la colaboración entre equipos al compartir features desde un catálogo centralizado.                               |\n"
   ]
  },
  {
   "cell_type": "markdown",
   "metadata": {
    "application/vnd.databricks.v1+cell": {
     "cellMetadata": {},
     "inputWidgets": {},
     "nuid": "3545cc47-80b9-42ec-bc1a-d46a3de6351d",
     "showTitle": false,
     "tableResultSettingsMap": {},
     "title": ""
    }
   },
   "source": [
    "## 📌 Puntos claves\n",
    "\n",
    "UC permite centralizar y reutilizar features entre múltiples workspaces.\n",
    "\n",
    "UC mejora la seguridad, ya que se basa en acceso por Unity Catalog, no por configuración local.\n",
    "\n",
    "UC permite la trazabilidad y gobernanza completa del ciclo de vida de las features (quién las creó, qué modelos las usan, etc.).\n",
    "\n",
    "UC es escalable a nivel de organización y multicloud.\n",
    "\n",
    "Crear tablas de Feature Store en UC es más adecuado para entornos de producción colaborativos."
   ]
  },
  {
   "cell_type": "markdown",
   "metadata": {
    "application/vnd.databricks.v1+cell": {
     "cellMetadata": {},
     "inputWidgets": {},
     "nuid": "15228ab6-a9e6-4436-82f4-d19310c1110a",
     "showTitle": false,
     "tableResultSettingsMap": {},
     "title": ""
    }
   },
   "source": [
    "# Create a feature store table in Unity Catalog"
   ]
  },
  {
   "cell_type": "markdown",
   "metadata": {
    "application/vnd.databricks.v1+cell": {
     "cellMetadata": {},
     "inputWidgets": {},
     "nuid": "3ccce294-e25c-481c-b6e5-720b23564907",
     "showTitle": false,
     "tableResultSettingsMap": {},
     "title": ""
    }
   },
   "source": [
    "## 📌 Puntos claves"
   ]
  },
  {
   "cell_type": "markdown",
   "metadata": {
    "application/vnd.databricks.v1+cell": {
     "cellMetadata": {},
     "inputWidgets": {},
     "nuid": "a1ff5eb3-859d-451d-8d84-9f071fe77507",
     "showTitle": false,
     "tableResultSettingsMap": {},
     "title": ""
    }
   },
   "source": [
    "# Write data to a feature store table"
   ]
  },
  {
   "cell_type": "markdown",
   "metadata": {
    "application/vnd.databricks.v1+cell": {
     "cellMetadata": {},
     "inputWidgets": {},
     "nuid": "30ae2805-9742-4b3b-88fb-9db8016a6c69",
     "showTitle": false,
     "tableResultSettingsMap": {},
     "title": ""
    }
   },
   "source": [
    "## 📌 Puntos claves"
   ]
  },
  {
   "cell_type": "markdown",
   "metadata": {
    "application/vnd.databricks.v1+cell": {
     "cellMetadata": {},
     "inputWidgets": {},
     "nuid": "b8512819-2cfb-47bb-8dfe-ef2be8c85d5e",
     "showTitle": false,
     "tableResultSettingsMap": {},
     "title": ""
    }
   },
   "source": [
    "#Train a model with features from a feature store table."
   ]
  },
  {
   "cell_type": "markdown",
   "metadata": {
    "application/vnd.databricks.v1+cell": {
     "cellMetadata": {},
     "inputWidgets": {},
     "nuid": "541e769e-054c-48e2-b6ca-baac737536b6",
     "showTitle": false,
     "tableResultSettingsMap": {},
     "title": ""
    }
   },
   "source": [
    "## 📌 Puntos claves"
   ]
  },
  {
   "cell_type": "markdown",
   "metadata": {
    "application/vnd.databricks.v1+cell": {
     "cellMetadata": {},
     "inputWidgets": {},
     "nuid": "fe13cc42-cda4-4bbb-bdea-0d2e0c3cd734",
     "showTitle": false,
     "tableResultSettingsMap": {},
     "title": ""
    }
   },
   "source": [
    "# Score a model using features from a feature store table.\n"
   ]
  },
  {
   "cell_type": "markdown",
   "metadata": {
    "application/vnd.databricks.v1+cell": {
     "cellMetadata": {},
     "inputWidgets": {},
     "nuid": "d14be9c8-dd7e-40b6-9a4d-ab3978a6271a",
     "showTitle": false,
     "tableResultSettingsMap": {},
     "title": ""
    }
   },
   "source": [
    "## 📌 Puntos claves"
   ]
  },
  {
   "cell_type": "markdown",
   "metadata": {
    "application/vnd.databricks.v1+cell": {
     "cellMetadata": {},
     "inputWidgets": {},
     "nuid": "aac6a162-27af-4e16-bfb7-38785fb76269",
     "showTitle": false,
     "tableResultSettingsMap": {},
     "title": ""
    }
   },
   "source": [
    "# Describe the differences between online and offline feature tables"
   ]
  },
  {
   "cell_type": "markdown",
   "metadata": {
    "application/vnd.databricks.v1+cell": {
     "cellMetadata": {},
     "inputWidgets": {},
     "nuid": "bb3c998e-52e0-4dc6-b329-248eb9399b40",
     "showTitle": false,
     "tableResultSettingsMap": {},
     "title": ""
    }
   },
   "source": [
    "## 📌 Puntos claves"
   ]
  },
  {
   "cell_type": "markdown",
   "metadata": {
    "application/vnd.databricks.v1+cell": {
     "cellMetadata": {},
     "inputWidgets": {},
     "nuid": "27ee4555-65a0-4967-b0b1-d27cd7a8976c",
     "showTitle": false,
     "tableResultSettingsMap": {},
     "title": ""
    }
   },
   "source": [
    "# Identify the best run using the MLflow Client API."
   ]
  },
  {
   "cell_type": "markdown",
   "metadata": {
    "application/vnd.databricks.v1+cell": {
     "cellMetadata": {},
     "inputWidgets": {},
     "nuid": "6500e8bb-e9c1-4e06-b0d1-11d591419ed3",
     "showTitle": false,
     "tableResultSettingsMap": {},
     "title": ""
    }
   },
   "source": [
    "## 📌 Puntos claves"
   ]
  },
  {
   "cell_type": "markdown",
   "metadata": {
    "application/vnd.databricks.v1+cell": {
     "cellMetadata": {},
     "inputWidgets": {},
     "nuid": "7a072e1e-ad4d-4ef5-a202-3380c4208b15",
     "showTitle": false,
     "tableResultSettingsMap": {},
     "title": ""
    }
   },
   "source": [
    "# Manually log metrics, artifacts, and models in an MLflow Run."
   ]
  },
  {
   "cell_type": "markdown",
   "metadata": {
    "application/vnd.databricks.v1+cell": {
     "cellMetadata": {},
     "inputWidgets": {},
     "nuid": "9b81d85f-0ff6-4b8d-b73c-0c3eaec5fa38",
     "showTitle": false,
     "tableResultSettingsMap": {},
     "title": ""
    }
   },
   "source": [
    "## 📌 Puntos claves"
   ]
  },
  {
   "cell_type": "markdown",
   "metadata": {
    "application/vnd.databricks.v1+cell": {
     "cellMetadata": {},
     "inputWidgets": {},
     "nuid": "7ee7c761-db7e-48e6-9eef-aac5ec74da1b",
     "showTitle": false,
     "tableResultSettingsMap": {},
     "title": ""
    }
   },
   "source": [
    "# Identify information available in the MLFlow UI"
   ]
  },
  {
   "cell_type": "markdown",
   "metadata": {
    "application/vnd.databricks.v1+cell": {
     "cellMetadata": {},
     "inputWidgets": {},
     "nuid": "1e101af8-4801-45a1-90f0-2822792a9349",
     "showTitle": false,
     "tableResultSettingsMap": {},
     "title": ""
    }
   },
   "source": [
    "## 📌 Puntos claves"
   ]
  },
  {
   "cell_type": "markdown",
   "metadata": {
    "application/vnd.databricks.v1+cell": {
     "cellMetadata": {},
     "inputWidgets": {},
     "nuid": "d4ec1609-78d7-4def-8972-b5b20bbcdada",
     "showTitle": false,
     "tableResultSettingsMap": {},
     "title": ""
    }
   },
   "source": [
    "# Register a model using the MLflow Client API in the Unity Catalog registry"
   ]
  },
  {
   "cell_type": "markdown",
   "metadata": {
    "application/vnd.databricks.v1+cell": {
     "cellMetadata": {},
     "inputWidgets": {},
     "nuid": "bda99363-f392-43a0-b4ad-1b197b0d62a7",
     "showTitle": false,
     "tableResultSettingsMap": {},
     "title": ""
    }
   },
   "source": [
    "## 📌 Puntos claves"
   ]
  },
  {
   "cell_type": "markdown",
   "metadata": {
    "application/vnd.databricks.v1+cell": {
     "cellMetadata": {},
     "inputWidgets": {},
     "nuid": "70e8aa7d-98e2-4436-9659-a446c452b739",
     "showTitle": false,
     "tableResultSettingsMap": {},
     "title": ""
    }
   },
   "source": [
    "# Identify benefits of registering models in the Unity Catalog registry over the workspace registry"
   ]
  },
  {
   "cell_type": "markdown",
   "metadata": {
    "application/vnd.databricks.v1+cell": {
     "cellMetadata": {},
     "inputWidgets": {},
     "nuid": "7e3caa94-1331-4b7b-acc1-2628d9ac8d6a",
     "showTitle": false,
     "tableResultSettingsMap": {},
     "title": ""
    }
   },
   "source": [
    "## 📌 Puntos claves"
   ]
  },
  {
   "cell_type": "markdown",
   "metadata": {
    "application/vnd.databricks.v1+cell": {
     "cellMetadata": {},
     "inputWidgets": {},
     "nuid": "320df46b-44d2-4005-9a6b-9eeb1d3e671e",
     "showTitle": false,
     "tableResultSettingsMap": {},
     "title": ""
    }
   },
   "source": [
    "# Identify scenarios where promoting code is preferred over promoting models and vice versa"
   ]
  },
  {
   "cell_type": "markdown",
   "metadata": {
    "application/vnd.databricks.v1+cell": {
     "cellMetadata": {},
     "inputWidgets": {},
     "nuid": "04824651-3103-45fd-ba42-ba030b786be0",
     "showTitle": false,
     "tableResultSettingsMap": {},
     "title": ""
    }
   },
   "source": [
    "## 📌 Puntos claves"
   ]
  },
  {
   "cell_type": "markdown",
   "metadata": {
    "application/vnd.databricks.v1+cell": {
     "cellMetadata": {},
     "inputWidgets": {},
     "nuid": "ac30f65c-abb9-4bc9-aa09-3197c294b4cf",
     "showTitle": false,
     "tableResultSettingsMap": {},
     "title": ""
    }
   },
   "source": [
    "# Set or remove a tag for a model"
   ]
  },
  {
   "cell_type": "markdown",
   "metadata": {
    "application/vnd.databricks.v1+cell": {
     "cellMetadata": {},
     "inputWidgets": {},
     "nuid": "fd0caa81-b195-43ae-bd26-981173a3798a",
     "showTitle": false,
     "tableResultSettingsMap": {},
     "title": ""
    }
   },
   "source": [
    "## 📌 Puntos claves"
   ]
  },
  {
   "cell_type": "markdown",
   "metadata": {
    "application/vnd.databricks.v1+cell": {
     "cellMetadata": {},
     "inputWidgets": {},
     "nuid": "dfcc565b-7aa1-4ce7-aaf7-7c6466295b52",
     "showTitle": false,
     "tableResultSettingsMap": {},
     "title": ""
    }
   },
   "source": [
    "# Promote a challenger model to a champion model using aliases"
   ]
  },
  {
   "cell_type": "markdown",
   "metadata": {
    "application/vnd.databricks.v1+cell": {
     "cellMetadata": {},
     "inputWidgets": {},
     "nuid": "8efa090a-4def-4a9d-adcf-b0f234ead3cb",
     "showTitle": false,
     "tableResultSettingsMap": {},
     "title": ""
    }
   },
   "source": [
    "## 📌 Puntos claves"
   ]
  }
 ],
 "metadata": {
  "application/vnd.databricks.v1+notebook": {
   "computePreferences": null,
   "dashboards": [],
   "environmentMetadata": {
    "base_environment": "",
    "environment_version": "2"
   },
   "inputWidgetPreferences": null,
   "language": "python",
   "notebookMetadata": {
    "pythonIndentUnit": 4
   },
   "notebookName": "Section 1: Databricks Machine Learning",
   "widgets": {}
  },
  "language_info": {
   "name": "python"
  }
 },
 "nbformat": 4,
 "nbformat_minor": 0
}
