{
 "cells": [
  {
   "cell_type": "markdown",
   "metadata": {
    "application/vnd.databricks.v1+cell": {
     "cellMetadata": {},
     "inputWidgets": {},
     "nuid": "ceabd86c-a7f9-4d74-8462-651485226082",
     "showTitle": false,
     "tableResultSettingsMap": {},
     "title": ""
    }
   },
   "source": [
    "# Use ML foundations to select the appropriate algorithm for a given model scenario\n"
   ]
  },
  {
   "cell_type": "markdown",
   "metadata": {
    "application/vnd.databricks.v1+cell": {
     "cellMetadata": {},
     "inputWidgets": {},
     "nuid": "0b3120c5-2f62-43aa-8f8c-b1c5e37c17f2",
     "showTitle": false,
     "tableResultSettingsMap": {},
     "title": ""
    }
   },
   "source": [
    "Tipo de problema: clasificación vs regresión\n",
    "Clasificación (binaria o multiclase):\n",
    "\n",
    "¿Predices categorías o etiquetas? (Ej: churn: sí/no)\n",
    "\n",
    "Algoritmos típicos: Logistic Regression, Decision Tree, Random Forest, GBTClassifier\n",
    "\n",
    "Regresión:\n",
    "\n",
    "¿Predices una variable numérica continua? (Ej: predicción de precio)\n",
    "\n",
    "Algoritmos típicos: Linear Regression, Decision Tree Regressor, GBTRegressor, XGBoostRegressor"
   ]
  },
  {
   "cell_type": "markdown",
   "metadata": {
    "application/vnd.databricks.v1+cell": {
     "cellMetadata": {},
     "inputWidgets": {},
     "nuid": "ed3bdeaa-45d6-46d7-858c-8c3984b3da9e",
     "showTitle": false,
     "tableResultSettingsMap": {},
     "title": ""
    }
   },
   "source": [
    "##  Algoritmos frecuentes y cuándo usarlos\n",
    "\n",
    "| Algoritmo                        | Tipo          | Cuándo usarlo                                        | Pros                                      | Contras                                   |\n",
    "| -------------------------------- | ------------- | ---------------------------------------------------- | ----------------------------------------- | ----------------------------------------- |\n",
    "| **Logistic Regression**          | Clasificación | Problemas lineales, interpretabilidad alta           | Rápido, interpretable                     | No captura relaciones no lineales         |\n",
    "| **Linear Regression**            | Regresión     | Relaciones lineales simples                          | Sencillo, explicable                      | Poco flexible ante relaciones no lineales |\n",
    "| **Decision Tree**                | Ambos         | Datos interpretables, no lineales, sin normalización | No requiere escalado, fácil de visualizar | Propenso a overfitting                    |\n",
    "| **Random Forest**                | Ambos         | Datos complejos, buena generalización                | Robusto, mejora overfitting               | Menos interpretable, más lento            |\n",
    "| **GBT (Gradient-Boosted Trees)** | Ambos         | Alta precisión, datos desbalanceados                 | Mejor rendimiento que RF en muchos casos  | Entrenamiento lento, sensible a ruido     |\n",
    "| **XGBoost**                      | Ambos         | Escenarios con muchos datos y features importantes   | Precisión alta, regularización integrada  | Requiere más tuning, menos interpretable  |\n",
    "\n",
    "## Factores que influyen en la elección del modelo\n",
    "\n",
    "| Factor                         | Consideración                                                                    |\n",
    "| ------------------------------ | -------------------------------------------------------------------------------- |\n",
    "| **Tamaño del dataset**         | GBT y XGBoost funcionan mejor con muchos datos                                   |\n",
    "| **Balance de clases**          | Algoritmos como GBT y Logistic soportan `class_weight`; Random Forest es robusto |\n",
    "| **Interpretabilidad**          | Preferir Logistic o Decision Tree                                                |\n",
    "| **Requerimientos de tiempo**   | Logistic y Linear son rápidos; GBT y XGBoost pueden tardar                       |\n",
    "| **Relación entre variables**   | Si es no lineal → evitar regresiones lineales simples                            |\n",
    "| **Colinealidad / redundancia** | XGBoost y árboles manejan mejor variables redundantes                            |\n"
   ]
  },
  {
   "cell_type": "markdown",
   "metadata": {
    "application/vnd.databricks.v1+cell": {
     "cellMetadata": {},
     "inputWidgets": {},
     "nuid": "fc99ba60-0216-4da1-8572-4acfacf05c65",
     "showTitle": false,
     "tableResultSettingsMap": {},
     "title": ""
    }
   },
   "source": [
    "## 📌 Puntos clave\n",
    "- **¿Qué es normalización?**\n",
    "En muchos algoritmos (como regresiones o redes neuronales), necesitas que tus features numéricos estén en una misma escala (por ejemplo, entre 0 y 1), usando técnicas como:\n",
    "\n",
    "StandardScaler: para que cada feature tenga media 0 y desviación estándar 1\n",
    "\n",
    "MinMaxScaler: para escalar entre un rango definido (usualmente 0 a 1)\n",
    "\n",
    "- **Qué es \"ruido\"**\n",
    "| Tipo de ruido              | Ejemplo                                     | Impacto                                                   |\n",
    "| -------------------------- | ------------------------------------------- | --------------------------------------------------------- |\n",
    "| **Errores en los datos**   | Registros con etiquetas incorrectas o typos | GBT puede aprender a \"explicar\" errores que no se repiten |\n",
    "| **Outliers**               | Valores extremos en variables numéricas     | Puede crear divisiones innecesarias solo para esos casos  |\n",
    "| **Variables irrelevantes** | Features que no aportan al target           | GBT puede intentar exprimirles señal que no existe        |\n",
    "| **Variabilidad aleatoria** | Efectos que no se repetirán en nuevos datos | Aprendidos como si fueran patrones reales                 |\n",
    "\n",
    "- **Qué es regularización\"**\n",
    "\n",
    "| Concepto       | Explicación simple                                                                       |\n",
    "| -------------- | ---------------------------------------------------------------------------------------- |\n",
    "| Regularización | Penalizar la complejidad del modelo para evitar que aprenda demasiado                    |\n",
    "| ¿Cuándo?       | Cuando hay riesgo de overfitting                                                         |\n",
    "| ¿Cómo?         | Penalizando coeficientes (regresión) o limitando profundidad/tamaño del modelo (árboles) |\n",
    "\n",
    "\n"
   ]
  },
  {
   "cell_type": "markdown",
   "metadata": {
    "application/vnd.databricks.v1+cell": {
     "cellMetadata": {},
     "inputWidgets": {},
     "nuid": "478c2ea7-a65a-4a6b-b13d-5643a3c1d453",
     "showTitle": false,
     "tableResultSettingsMap": {},
     "title": ""
    }
   },
   "source": [
    "# Identify methods to mitigate data imbalance in training data"
   ]
  },
  {
   "cell_type": "markdown",
   "metadata": {
    "application/vnd.databricks.v1+cell": {
     "cellMetadata": {},
     "inputWidgets": {},
     "nuid": "7e0d35a4-49fc-4e23-89fc-680ee2063533",
     "showTitle": false,
     "tableResultSettingsMap": {},
     "title": ""
    }
   },
   "source": [
    "## ¿Qué es un dataset desbalanceado?\n",
    "\n",
    "| Problema            | Clase mayoritaria      | Clase minoritaria     |\n",
    "| ------------------- | ---------------------- | --------------------- |\n",
    "| Detección de fraude | Transacciones normales | Fraudes               |\n",
    "| Churn prediction    | Clientes activos       | Clientes que cancelan |\n",
    "| Diagnóstico médico  | Pacientes sanos        | Casos positivos       |\n",
    "\n"
   ]
  },
  {
   "cell_type": "markdown",
   "metadata": {
    "application/vnd.databricks.v1+cell": {
     "cellMetadata": {},
     "inputWidgets": {},
     "nuid": "af2b1e7d-f1a9-415e-a561-0083157d96fd",
     "showTitle": false,
     "tableResultSettingsMap": {},
     "title": ""
    }
   },
   "source": [
    "## Técnicas para mitigar el desbalance\n",
    "\n",
    "### 1. Modificación del dataset\n",
    "\n",
    "| Técnica           | Qué hace                                           | Cuándo usarla                                                | Herramientas         |\n",
    "| ----------------- | -------------------------------------------------- | ------------------------------------------------------------ | -------------------- |\n",
    "| **Undersampling** | Quita ejemplos de la clase mayoritaria             | Cuando hay muchos datos disponibles                          | `RandomUnderSampler` |\n",
    "| **Oversampling**  | Duplica ejemplos de la clase minoritaria           | Cuando se tiene pocos datos de esa clase                     | `RandomOverSampler`  |\n",
    "| **SMOTE**         | Genera ejemplos sintéticos de la clase minoritaria | Cuando quieres mejorar la diversidad de la clase minoritaria | `imblearn.SMOTE`     |\n",
    "\n",
    "\n",
    "### 2. Modificación del modelo (ajuste de pesos)\n",
    "\n",
    "En vez de tocar los datos, puedes ajustar el modelo para que:\n",
    "\n",
    "- Le dé más peso a los errores en la clase minoritaria\n",
    "- Algunas implementaciones permiten class_weight='balanced'\n",
    "\n",
    "| Modelo                           | ¿Soporta class\\_weight?      |\n",
    "| -------------------------------- | ---------------------------- |\n",
    "| Logistic Regression              | ✅ Sí                         |\n",
    "| Decision Tree / RF / GBT (Spark) | ✅ Sí, con `weightCol`        |\n",
    "| XGBoost                          | ✅ Sí, con `scale_pos_weight` |\n"
   ]
  },
  {
   "cell_type": "markdown",
   "metadata": {
    "application/vnd.databricks.v1+cell": {
     "cellMetadata": {},
     "inputWidgets": {},
     "nuid": "bd7522c7-5056-46d3-bd4e-acf3b3798e8d",
     "showTitle": false,
     "tableResultSettingsMap": {},
     "title": ""
    }
   },
   "source": [
    "## 📌 Puntos clave\n",
    "\n",
    "Elegir métricas adecuadas cuando el dataset está desbalanceado:\n",
    "\n",
    "| Evitar                  | Usar en su lugar              |\n",
    "| ----------------------- | ----------------------------- |\n",
    "| ❌ Accuracy              | ✅ F1-score, Precision, Recall |\n",
    "| ❌ ROC-AUC (en extremos) | ✅ Precision-Recall Curve      |\n"
   ]
  },
  {
   "cell_type": "code",
   "execution_count": 0,
   "metadata": {
    "application/vnd.databricks.v1+cell": {
     "cellMetadata": {},
     "inputWidgets": {},
     "nuid": "605d62e2-f7ab-49a7-b12d-e76c5cc569ed",
     "showTitle": false,
     "tableResultSettingsMap": {},
     "title": ""
    }
   },
   "outputs": [],
   "source": []
  },
  {
   "cell_type": "markdown",
   "metadata": {
    "application/vnd.databricks.v1+cell": {
     "cellMetadata": {},
     "inputWidgets": {},
     "nuid": "9ba4a627-b2f4-426c-9919-a55e835977c6",
     "showTitle": false,
     "tableResultSettingsMap": {},
     "title": ""
    }
   },
   "source": [
    "#  Compare estimators and transformers"
   ]
  },
  {
   "cell_type": "markdown",
   "metadata": {
    "application/vnd.databricks.v1+cell": {
     "cellMetadata": {},
     "inputWidgets": {},
     "nuid": "598aa3fb-1d78-481c-9872-7d72b025026e",
     "showTitle": false,
     "tableResultSettingsMap": {},
     "title": ""
    }
   },
   "source": [
    "- pipeline en sklearn https://scikit-learn.org/stable/modules/generated/sklearn.pipeline.Pipeline.html \n",
    "- Transformer rm sklearn https://scikit-learn.org/stable/modules/generated/sklearn.compose.ColumnTransformer.html"
   ]
  },
  {
   "cell_type": "markdown",
   "metadata": {
    "application/vnd.databricks.v1+cell": {
     "cellMetadata": {},
     "inputWidgets": {},
     "nuid": "a8ac4b1d-e05f-4d97-b8d1-7c53044bafd4",
     "showTitle": false,
     "tableResultSettingsMap": {},
     "title": ""
    }
   },
   "source": [
    "## ¿Qué es un Estimator?\n",
    "\n",
    "Un Estimator es cualquier objeto que aprende a partir de los datos. Su función principal es:\n",
    "Aplicar .fit() sobre un DataFrame para producir un Transformer.\n",
    "\n",
    "💡 Ejemplo: LogisticRegression, StandardScaler, PCA, StringIndexer, RandomForestClassifier\n"
   ]
  },
  {
   "cell_type": "code",
   "execution_count": 0,
   "metadata": {
    "application/vnd.databricks.v1+cell": {
     "cellMetadata": {},
     "inputWidgets": {},
     "nuid": "973f8694-b97a-463b-ac2c-3e82cfae2ec2",
     "showTitle": false,
     "tableResultSettingsMap": {},
     "title": ""
    }
   },
   "outputs": [],
   "source": [
    "#Estimator\n",
    "from pyspark.ml.classification import LogisticRegression\n",
    "lr = LogisticRegression()\n",
    "model = lr.fit(train_df)\n"
   ]
  },
  {
   "cell_type": "markdown",
   "metadata": {
    "application/vnd.databricks.v1+cell": {
     "cellMetadata": {},
     "inputWidgets": {},
     "nuid": "86c6f577-75e7-4b2e-a409-9a15ca4ea46c",
     "showTitle": false,
     "tableResultSettingsMap": {},
     "title": ""
    }
   },
   "source": [
    "## ¿Qué es un Transformer?\n",
    "\n",
    "Un Transformer es un objeto que aplica una transformación sobre un dataset, sin aprender nada nuevo. Su función principal es:\n",
    "\n",
    "Aplicar .transform() para crear un nuevo DataFrame.\n",
    "\n",
    "💡 Ejemplo: model producido por LogisticRegression.fit(), o PipelineModel, o StandardScalerModel"
   ]
  },
  {
   "cell_type": "code",
   "execution_count": 0,
   "metadata": {
    "application/vnd.databricks.v1+cell": {
     "cellMetadata": {},
     "inputWidgets": {},
     "nuid": "743d41f5-19f4-4d44-886a-ebe50d1b4e97",
     "showTitle": false,
     "tableResultSettingsMap": {},
     "title": ""
    }
   },
   "outputs": [],
   "source": [
    "#Transformer\n",
    "transformed = model.transform(test_df)"
   ]
  },
  {
   "cell_type": "markdown",
   "metadata": {
    "application/vnd.databricks.v1+cell": {
     "cellMetadata": {},
     "inputWidgets": {},
     "nuid": "4925e41a-790b-49ac-9339-9e8abdbfa157",
     "showTitle": false,
     "tableResultSettingsMap": {},
     "title": ""
    }
   },
   "source": [
    "## En el contexto de un Pipeline\n",
    "\n",
    "Un Pipeline está compuesto de etapas (stages) que pueden ser:\n",
    "\n",
    "Estimators → deben ser ajustados (fit)\n",
    "\n",
    "Transformers → aplican transformaciones (transform)"
   ]
  },
  {
   "cell_type": "code",
   "execution_count": 0,
   "metadata": {
    "application/vnd.databricks.v1+cell": {
     "cellMetadata": {},
     "inputWidgets": {},
     "nuid": "93938429-9cc6-4cdd-b246-0bf2963c7c2b",
     "showTitle": false,
     "tableResultSettingsMap": {},
     "title": ""
    }
   },
   "outputs": [],
   "source": [
    "from pyspark.ml.feature import StringIndexer, StandardScalerModel, VectorAssembler\n",
    "from pyspark.ml.classification import LogisticRegression\n",
    "from pyspark.ml import Pipeline\n",
    "\n",
    "# Supón que ya tienes un StandardScalerModel entrenado previamente\n",
    "scaler_model = StandardScalerModel.load(\"path/to/scaler_model\")\n",
    "\n",
    "pipeline = Pipeline(stages=[\n",
    "    StringIndexer(inputCol=\"category\", outputCol=\"category_indexed\"),  # Estimator\n",
    "    scaler_model,                                                      # Transformer\n",
    "    LogisticRegression(featuresCol=\"features\", labelCol=\"label\")       # Estimator\n",
    "])\n"
   ]
  },
  {
   "cell_type": "markdown",
   "metadata": {
    "application/vnd.databricks.v1+cell": {
     "cellMetadata": {},
     "inputWidgets": {},
     "nuid": "1f765b5a-4f02-4fb0-a835-75a001a728f8",
     "showTitle": false,
     "tableResultSettingsMap": {},
     "title": ""
    }
   },
   "source": [
    "## 📌 Puntos clave\n",
    "\n",
    "**Estimators que aparecen en el examen**\n",
    "\n",
    "| Estimator                | Tipo                         | Contexto en el examen                                                        |\n",
    "| ------------------------ | ---------------------------- | ---------------------------------------------------------------------------- |\n",
    "| `StringIndexer`          | Preprocesamiento             | Transformar texto a índice numérico antes de entrenar                        |\n",
    "| `OneHotEncoder`          | Preprocesamiento             | Cuando el índice generado se usa como feature                                |\n",
    "| `StandardScaler`         | Preprocesamiento             | Preguntas con variables numéricas que deben escalarse                        |\n",
    "| `PCA`                    | Reducción de dimensionalidad | Escenario con muchas variables correlacionadas                               |\n",
    "| `VectorAssembler`        | Feature engineering          | Se usa en la mayoría de pipelines (reconocible por `inputCols`, `outputCol`) |\n",
    "| `LogisticRegression`     | Modelo de clasificación      | Común en preguntas sobre interpretabilidad o rendimiento                     |\n",
    "| `LinearRegression`       | Modelo de regresión          | Aparece menos, pero presente en problemas numéricos                          |\n",
    "| `DecisionTreeClassifier` | Modelo de clasificación      | Opción en preguntas de comparación de modelos                                |\n",
    "| `RandomForestClassifier` | Modelo de clasificación      | Aparece como alternativa en comparación vs GBT                               |\n",
    "| `GBTClassifier`          | Modelo de clasificación      | Muy común en preguntas sobre overfitting y evaluación                        |\n",
    "| `GBTRegressor`           | Modelo de regresión          | Menos frecuente, pero presente en pipelines de regresión                     |\n",
    "\n",
    "\n",
    "**Transformers que aparecen en el examen**\n",
    "\n",
    "| Transformer               | Proviene de...                   | Contexto en el examen                                |\n",
    "| ------------------------- | -------------------------------- | ---------------------------------------------------- |\n",
    "| `StringIndexerModel`      | `.fit()` de `StringIndexer`      | Usado para aplicar transformaciones ya ajustadas     |\n",
    "| `OneHotEncoderModel`      | `.fit()` de `OneHotEncoder`      | Cuando se pregunta por el resultado del pipeline     |\n",
    "| `StandardScalerModel`     | `.fit()` de `StandardScaler`     | Escenario donde se aplica escalado antes de entrenar |\n",
    "| `PCAModel`                | `.fit()` de `PCA`                | Cuando hay reducción de features antes del modelo    |\n",
    "| `LogisticRegressionModel` | `.fit()` de `LogisticRegression` | Predicción, evaluación, métricas                     |\n",
    "| `GBTClassificationModel`  | `.fit()` de `GBTClassifier`      | Aparece en preguntas de evaluación de performance    |\n",
    "| `PipelineModel`           | `.fit()` de un `Pipeline`        | Muy común en preguntas con código de varios pasos    |\n"
   ]
  },
  {
   "cell_type": "markdown",
   "metadata": {
    "application/vnd.databricks.v1+cell": {
     "cellMetadata": {},
     "inputWidgets": {},
     "nuid": "c226a035-5bb8-4da6-aad7-207dd8db81d1",
     "showTitle": false,
     "tableResultSettingsMap": {},
     "title": ""
    }
   },
   "source": [
    "# Develop a training pipeline"
   ]
  },
  {
   "cell_type": "markdown",
   "metadata": {
    "application/vnd.databricks.v1+cell": {
     "cellMetadata": {},
     "inputWidgets": {},
     "nuid": "0f63bffc-9c57-42a9-92d4-a0893e86a667",
     "showTitle": false,
     "tableResultSettingsMap": {},
     "title": ""
    }
   },
   "source": [
    "## ¿Qué es un pipeline de entrenamiento?\n",
    "Un pipeline de entrenamiento es una estructura modular que encapsula todo el flujo de machine learning:\n",
    "\n",
    "- Preparación de datos\n",
    "- Transformaciones\n",
    "- Entrenamiento del modelo\n",
    "- (Opcional) Validación\n",
    "- (Opcional) Evaluación y persistencia\n",
    "\n",
    "En PySpark, se representa con el objeto Pipeline de pyspark.ml."
   ]
  },
  {
   "cell_type": "markdown",
   "metadata": {
    "application/vnd.databricks.v1+cell": {
     "cellMetadata": {},
     "inputWidgets": {},
     "nuid": "298758da-1b71-4300-bb75-59090d2b3144",
     "showTitle": false,
     "tableResultSettingsMap": {},
     "title": ""
    }
   },
   "source": [
    "## ¿Qué componentes se usan en Spark ML Pipelines?\n",
    "1. Transformers\n",
    "Objetos que aplican .transform(df)\n",
    "\n",
    "No requieren aprendizaje\n",
    "\n",
    "Ejemplos: VectorAssembler, MinMaxScalerModel, StandardScalerModel, PCAModel\n",
    "\n",
    "2. Estimators\n",
    "Objetos que requieren .fit(df) para aprender de los datos\n",
    "\n",
    "Devuelven Transformers\n",
    "\n",
    "Ejemplos: StringIndexer, LogisticRegression, GBTClassifier, RandomForestRegressor\n",
    "\n",
    "3. Pipeline\n",
    "Contenedor de etapas ordenadas (stages = [])\n",
    "\n",
    "Combina estimadores y transformers\n",
    "\n",
    ".fit(df) entrena todo el pipeline, devuelve un PipelineModel"
   ]
  },
  {
   "cell_type": "code",
   "execution_count": 0,
   "metadata": {
    "application/vnd.databricks.v1+cell": {
     "cellMetadata": {},
     "inputWidgets": {},
     "nuid": "53a3b0f2-8053-4e9b-af68-82d8ea39ba6b",
     "showTitle": false,
     "tableResultSettingsMap": {},
     "title": ""
    }
   },
   "outputs": [],
   "source": [
    "from pyspark.ml import Pipeline\n",
    "from pyspark.ml.feature import StringIndexer, VectorAssembler\n",
    "from pyspark.ml.classification import LogisticRegression\n",
    "\n",
    "pipeline = Pipeline(stages=[\n",
    "    StringIndexer(inputCol=\"category\", outputCol=\"category_indexed\"),  # Estimator\n",
    "    VectorAssembler(\n",
    "        inputCols=[\"feature1\", \"feature2\", \"category_indexed\"],\n",
    "        outputCol=\"features\"\n",
    "    ),  # Transformer\n",
    "    LogisticRegression(featuresCol=\"features\", labelCol=\"label\")  # Estimator\n",
    "])\n",
    "\n",
    "# Entrenamiento completo del pipeline\n",
    "pipeline_model = pipeline.fit(train_df)\n",
    "\n",
    "# Aplicación a datos de test\n",
    "predictions = pipeline_model.transform(test_df)\n"
   ]
  },
  {
   "cell_type": "markdown",
   "metadata": {
    "application/vnd.databricks.v1+cell": {
     "cellMetadata": {},
     "inputWidgets": {},
     "nuid": "659b6341-c26e-4140-ac11-81ba081c10cc",
     "showTitle": false,
     "tableResultSettingsMap": {},
     "title": ""
    }
   },
   "source": [
    "## 📌 Puntos clave\n",
    "| Elemento                  | Clave para examen                        |\n",
    "| ------------------------- | ---------------------------------------- |\n",
    "| Objetivo del pipeline     | Organizar pasos ML de forma reproducible |\n",
    "| Composición               | Estimators + Transformers                |\n",
    "| Ejecución                 | `pipeline.fit()` produce `PipelineModel` |\n",
    "| Aplicación a nuevos datos | `pipeline_model.transform()`             |\n",
    "| Uso en tuning             | Compatible con CV y hyperopt             |\n"
   ]
  },
  {
   "cell_type": "markdown",
   "metadata": {
    "application/vnd.databricks.v1+cell": {
     "cellMetadata": {},
     "inputWidgets": {},
     "nuid": "be97cc77-5009-411d-af40-352f91447747",
     "showTitle": false,
     "tableResultSettingsMap": {},
     "title": ""
    }
   },
   "source": [
    "# Use Hyperopt's fmin operation to tune a model's hyperparameters"
   ]
  },
  {
   "cell_type": "markdown",
   "metadata": {
    "application/vnd.databricks.v1+cell": {
     "cellMetadata": {},
     "inputWidgets": {},
     "nuid": "c03086b2-8b3f-4593-aec9-c34a371f5c65",
     "showTitle": false,
     "tableResultSettingsMap": {},
     "title": ""
    }
   },
   "source": [
    "## ¿Qué es Hyperopt?\n",
    "Hyperopt es una librería de optimización de hiperparámetros basada en búsqueda Bayesiana. Es más eficiente que grid o random search para espacios de búsqueda grandes.\n",
    "\n",
    "Databricks lo integra con su framework de ML para escalar fácilmente los experimentos.\n",
    "\n"
   ]
  },
  {
   "cell_type": "code",
   "execution_count": 0,
   "metadata": {
    "application/vnd.databricks.v1+cell": {
     "cellMetadata": {},
     "inputWidgets": {},
     "nuid": "2cd46490-a385-486a-8037-72967ea1a39a",
     "showTitle": false,
     "tableResultSettingsMap": {},
     "title": ""
    }
   },
   "outputs": [],
   "source": [
    "# Sintaxis general de fmin\n",
    "from hyperopt import fmin, tpe, hp, Trials\n",
    "\n",
    "best_result = fmin(\n",
    "    fn=objective_function,         # Función objetivo (devuelve la métrica a minimizar)\n",
    "    space=search_space,            # Espacio de búsqueda de hiperparámetros\n",
    "    algo=tpe.suggest,              # Algoritmo de búsqueda (TPE = Tree-structured Parzen Estimator)\n",
    "    max_evals=50,                  # Número máximo de evaluaciones\n",
    "    trials=Trials()                # Objeto opcional para guardar resultados\n",
    ")\n"
   ]
  },
  {
   "cell_type": "markdown",
   "metadata": {
    "application/vnd.databricks.v1+cell": {
     "cellMetadata": {},
     "inputWidgets": {},
     "nuid": "e5249a20-32f2-4bfe-885a-e4ff5b3a038e",
     "showTitle": false,
     "tableResultSettingsMap": {},
     "title": ""
    }
   },
   "source": [
    "| Elemento    | Descripción                                                          | Tipo en examen                         |\n",
    "| ----------- | -------------------------------------------------------------------- | -------------------------------------- |\n",
    "| `fn`        | Función que entrena el modelo y devuelve una métrica (ej: `loss`)    | Preguntan qué retorna, qué espera      |\n",
    "| `space`     | Diccionario o estructura que define los hiperparámetros y sus rangos | Te preguntan cómo definirlo            |\n",
    "| `algo`      | Algoritmo de búsqueda (usualmente `tpe.suggest`)                     | Preguntan cuál es el más eficiente     |\n",
    "| `max_evals` | Cuántas combinaciones probar                                         | Preguntas de costo computacional       |\n",
    "| `Trials()`  | Objeto para registrar los experimentos                               | Preguntan si es obligatorio (no lo es) |\n"
   ]
  },
  {
   "cell_type": "code",
   "execution_count": 0,
   "metadata": {
    "application/vnd.databricks.v1+cell": {
     "cellMetadata": {},
     "inputWidgets": {},
     "nuid": "ff07c04d-5e6d-43f5-bab5-12c421233299",
     "showTitle": false,
     "tableResultSettingsMap": {},
     "title": ""
    }
   },
   "outputs": [],
   "source": [
    "from hyperopt import fmin, tpe, hp, Trials, STATUS_OK\n",
    "from sklearn.ensemble import RandomForestClassifier\n",
    "from sklearn.metrics import log_loss\n",
    "\n",
    "def objective(params):\n",
    "    model = RandomForestClassifier(**params)\n",
    "    model.fit(X_train, y_train)\n",
    "    preds = model.predict_proba(X_val)\n",
    "    loss = log_loss(y_val, preds)\n",
    "    return {'loss': loss, 'status': STATUS_OK}\n",
    "\n",
    "search_space = {\n",
    "    'n_estimators': hp.choice('n_estimators', [50, 100, 150]),\n",
    "    'max_depth': hp.quniform('max_depth', 3, 10, 1),\n",
    "    'max_features': hp.choice('max_features', ['auto', 'sqrt']),\n",
    "}\n",
    "\n",
    "best_result = fmin(\n",
    "    fn=objective,\n",
    "    space=search_space,\n",
    "    algo=tpe.suggest,\n",
    "    max_evals=20,\n",
    "    trials=Trials()\n",
    ")\n"
   ]
  },
  {
   "cell_type": "markdown",
   "metadata": {
    "application/vnd.databricks.v1+cell": {
     "cellMetadata": {},
     "inputWidgets": {},
     "nuid": "1ecc2008-a912-4d81-a41e-a7ac7cddfd12",
     "showTitle": false,
     "tableResultSettingsMap": {},
     "title": ""
    }
   },
   "source": [
    "## 📌 Puntos clave\n",
    "\n",
    "**NOTEBOOK CON EJEMPLO**\n",
    "https://docs.databricks.com/aws/en/machine-learning/automl-hyperparam-tuning/hyperopt-distributed-ml\n",
    "\n",
    "| Concepto         | Detalles                                                                    |\n",
    "| ---------------- | --------------------------------------------------------------------------- |\n",
    "| `hp.choice`      | Selección discreta entre valores                                            |\n",
    "| `hp.uniform`     | Números continuos entre dos valores                                         |\n",
    "| `hp.quniform`    | Números enteros escalonados (`start`, `end`, `step`)                        |\n",
    "| Función objetivo | Debe retornar un diccionario con `loss` y `status`                          |\n",
    "| Métrica objetivo | `loss` debe ser **mínima**, típicamente `log_loss`, `RMSE`, etc             |\n",
    "| `fmin`           | Encuentra la mejor combinación de hiperparámetros según la función objetivo |\n",
    "\n",
    "⚠️ Cuando uses Hyperopt con MLlib y otros algoritmos de entrenamiento distribuido, no pases el argumento **trials** a fmin(). Si no incluyes el argumento trials, Hyperopt usará la clase Trials por defecto, que se ejecuta en el driver del clúster. Hyperopt necesita evaluar cada prueba (trial) en el nodo driver para que cada prueba pueda iniciar trabajos de entrenamiento distribuidos.\n",
    "\n",
    "No uses la clase SparkTrials con MLlib. SparkTrials está diseñada para distribuir pruebas en algoritmos que no son distribuidos por sí mismos. MLlib ya utiliza computación distribuida y no es compatible con SparkTrials.\n"
   ]
  },
  {
   "cell_type": "markdown",
   "metadata": {
    "application/vnd.databricks.v1+cell": {
     "cellMetadata": {},
     "inputWidgets": {},
     "nuid": "cd85f29d-6bf3-4e07-84f1-fd2623ca22d1",
     "showTitle": false,
     "tableResultSettingsMap": {},
     "title": ""
    }
   },
   "source": [
    "# Perform random or grid search or Bayesian search as a method for tuning hyperparameters."
   ]
  },
  {
   "cell_type": "markdown",
   "metadata": {
    "application/vnd.databricks.v1+cell": {
     "cellMetadata": {},
     "inputWidgets": {},
     "nuid": "1cd12851-6252-412f-8493-2b787cf8426e",
     "showTitle": false,
     "tableResultSettingsMap": {},
     "title": ""
    }
   },
   "source": [
    "## Grid Search (Búsqueda por rejilla)\n",
    "\n",
    "Evalúa todas las combinaciones posibles de un conjunto definido de valores.\n",
    "\n",
    "{\n",
    "  \"maxDepth\": [5, 10],\n",
    "  \"minInstancesPerNode\": [1, 5]\n",
    "}\n",
    "\n",
    "Genera 4 combinaciones:\n",
    "\n",
    "- (5,1)\n",
    "- (5,5)\n",
    "- (10,1)\n",
    "- (10,5)\n",
    "\n",
    "**Ventajas:**\n",
    "- Exhaustivo → encuentra el mejor dentro de los valores que definiste.\n",
    "- Fácil de entender.\n",
    "\n",
    "**Desventajas:**\n",
    "- Costoso: crece exponencialmente con el número de parámetros y valores.\n",
    "- No generaliza fuera de los valores definidos."
   ]
  },
  {
   "cell_type": "markdown",
   "metadata": {
    "application/vnd.databricks.v1+cell": {
     "cellMetadata": {},
     "inputWidgets": {},
     "nuid": "e26db059-f3ec-43a8-9825-cb890c00766e",
     "showTitle": false,
     "tableResultSettingsMap": {},
     "title": ""
    }
   },
   "source": [
    "## Bayesian Search (ej. TPE con Hyperopt)\n",
    "Usa los resultados anteriores para predecir qué combinaciones valdrán la pena probar.\n",
    "\n",
    "- Construye un modelo probabilístico del espacio de búsqueda.\n",
    "- Escoge el próximo punto basándose en cuál tiene más probabilidad de ser mejor (balancea exploración y explotación).\n",
    "\n",
    "\n",
    "**Ventajas:**\n",
    "\n",
    "Aprende con cada evaluación → mejora progresiva.\n",
    "Más eficiente que Random/Grid en espacios complejos.\n",
    "Especialmente útil cuando hay tiempo/costo limitado.\n",
    "\n",
    "**Desventajas:**\n",
    "\n",
    "Más difícil de entender e implementar.\n",
    "Menos reproducible (dependiente del orden de evaluaciones)."
   ]
  },
  {
   "cell_type": "code",
   "execution_count": 0,
   "metadata": {
    "application/vnd.databricks.v1+cell": {
     "cellMetadata": {},
     "inputWidgets": {},
     "nuid": "8695e1d0-010a-4b18-9fee-47b374774015",
     "showTitle": false,
     "tableResultSettingsMap": {},
     "title": ""
    }
   },
   "outputs": [],
   "source": [
    "fmin(\n",
    "    fn=objective,\n",
    "    space=search_space,\n",
    "    algo=tpe.suggest,\n",
    "    max_evals=50\n",
    ")\n"
   ]
  },
  {
   "cell_type": "markdown",
   "metadata": {
    "application/vnd.databricks.v1+cell": {
     "cellMetadata": {},
     "inputWidgets": {},
     "nuid": "3c60c706-be8e-417f-9452-359a407e8224",
     "showTitle": false,
     "tableResultSettingsMap": {},
     "title": ""
    }
   },
   "source": [
    "## 📌 Puntos clave"
   ]
  },
  {
   "cell_type": "markdown",
   "metadata": {
    "application/vnd.databricks.v1+cell": {
     "cellMetadata": {},
     "inputWidgets": {},
     "nuid": "d4eca84d-854e-4345-9f15-0c5eb6c81b30",
     "showTitle": false,
     "tableResultSettingsMap": {},
     "title": ""
    }
   },
   "source": [
    "| Método         | Inteligente | Evaluaciones | Exploración | Velocidad  | Costoso  |\n",
    "| -------------- | ----------- | ------------ | ----------- | ---------- | -------- |\n",
    "| Grid Search    | ❌           | Todas        | Baja        | Lento      | Sí       |\n",
    "| Random Search  | ❌           | Aleatorias   | Alta        | Rápido     | Moderado |\n",
    "| Bayesian (TPE) | ✅           | Dirigidas    | Media       | Muy rápido | No       |\n",
    "\n",
    "**¿Qué debes saber para el examen?**\n",
    "\n",
    "- Grid Search → exhaustivo, costoso, útil si espacio reducido.\n",
    "- Random Search → más eficiente, útil si espacio es amplio.\n",
    "- Bayesian Search (TPE) → aprende con cada intento, recomendado en escenarios de recursos limitados.\n",
    "- En Databricks, Hyperopt implementa Bayesian Search por defecto con tpe.suggest."
   ]
  },
  {
   "cell_type": "markdown",
   "metadata": {
    "application/vnd.databricks.v1+cell": {
     "cellMetadata": {},
     "inputWidgets": {},
     "nuid": "12612f96-8735-429a-8ca7-2d00a3ea1e03",
     "showTitle": false,
     "tableResultSettingsMap": {},
     "title": ""
    }
   },
   "source": [
    "# Parallelize single node models for hyperparameter tuning\n"
   ]
  },
  {
   "cell_type": "markdown",
   "metadata": {
    "application/vnd.databricks.v1+cell": {
     "cellMetadata": {},
     "inputWidgets": {},
     "nuid": "7e248aa7-f97c-41f5-9723-119a4aaa3d24",
     "showTitle": false,
     "tableResultSettingsMap": {},
     "title": ""
    }
   },
   "source": [
    "**¿Qué significa “paralelizar modelos single-node”?**\n",
    "En el contexto de tuning de hiperparámetros, especialmente con métodos como Hyperopt, es frecuente ejecutar muchos experimentos independientes. Cada combinación de hiperparámetros genera un nuevo modelo que debe ser:\n",
    "\n",
    "- Entrenado (fit),\n",
    "- Validado (evaluate),\n",
    "- Comparado con otros.\n",
    "\n",
    "🔁 Estos entrenamientos son independientes unos de otros → se pueden correr en paralelo.\n",
    "\n",
    "**¿Qué es un “single-node model”?**\n",
    "Son modelos entrenados en una sola máquina (no distribuidos), por ejemplo:\n",
    "\n",
    "- RandomForestClassifier de sklearn o pyspark.ml\n",
    "- LogisticRegression\n",
    "- XGBoost en modo local\n",
    "\n",
    "Aunque estos modelos no escalan naturalmente a múltiples nodos, el tuning sí puede distribuirse, porque los experimentos no dependen entre sí.\n",
    "\n",
    "**¿Cómo se paraleliza en Databricks con Hyperopt?**\n",
    "Databricks soporta el modo paralelo de Hyperopt usando spark_trials, una utilidad que permite distribuir los experimentos en un clúster Spark."
   ]
  },
  {
   "cell_type": "code",
   "execution_count": 0,
   "metadata": {
    "application/vnd.databricks.v1+cell": {
     "cellMetadata": {},
     "inputWidgets": {},
     "nuid": "124ed1f0-be70-4b07-8280-ed0d9990239c",
     "showTitle": false,
     "tableResultSettingsMap": {},
     "title": ""
    }
   },
   "outputs": [],
   "source": [
    "from hyperopt import fmin, tpe, hp, STATUS_OK, SparkTrials\n",
    "from sklearn.ensemble import RandomForestClassifier\n",
    "\n",
    "# Definir función objetivo\n",
    "def objective(params):\n",
    "    model = RandomForestClassifier(**params)\n",
    "    model.fit(X_train, y_train)\n",
    "    preds = model.predict(X_val)\n",
    "    f1 = f1_score(y_val, preds)\n",
    "    return {'loss': -f1, 'status': STATUS_OK}\n",
    "\n",
    "# Definir espacio de búsqueda\n",
    "space = {\n",
    "    'max_depth': hp.choice('max_depth', [5, 10, 15]),\n",
    "    'n_estimators': hp.quniform('n_estimators', 50, 200, 10)\n",
    "}\n",
    "\n",
    "# Paralelizar con SparkTrials\n",
    "spark_trials = SparkTrials(parallelism=4)\n",
    "\n",
    "best_model = fmin(\n",
    "    fn=objective,\n",
    "    space=space,\n",
    "    algo=tpe.suggest,\n",
    "    max_evals=20,\n",
    "    trials=spark_trials  # <-- distribución en clúster\n",
    ")\n"
   ]
  },
  {
   "cell_type": "markdown",
   "metadata": {
    "application/vnd.databricks.v1+cell": {
     "cellMetadata": {},
     "inputWidgets": {},
     "nuid": "cb266e62-f0d9-4936-970a-f6978d899173",
     "showTitle": false,
     "tableResultSettingsMap": {},
     "title": ""
    }
   },
   "source": [
    "## 📌 Puntos clave\n",
    "\n",
    "| Parámetro   | `Trials` (default) | `SparkTrials`           |\n",
    "| ----------- | ------------------ | ----------------------- |\n",
    "| Paralelismo | ❌ No               | ✅ Sí                    |\n",
    "| Entorno     | Local (1 nodo)     | Clúster Databricks      |\n",
    "| Ideal para  | Debug, tests       | Producción, tuning real |\n",
    "\n",
    "Puedes controlar el número de evaluaciones simultáneas con parallelism=n.\n",
    "\n",
    "**Lo que puede aparecer en el examen:**\n",
    "- Saber que SparkTrials se usa para paralelizar tuning.\n",
    "- Identificar cuándo vale la pena paralelizar (muchas combinaciones, modelos costosos).\n",
    "- Entender que los modelos se entrenan en paralelo, no dentro del mismo modelo, sino a nivel de tuning.\n",
    "- Reconocer que esto se puede aplicar a modelos que no son distribuidos (como sklearn, xgboost, pyspark.ml).\n"
   ]
  },
  {
   "cell_type": "markdown",
   "metadata": {
    "application/vnd.databricks.v1+cell": {
     "cellMetadata": {},
     "inputWidgets": {},
     "nuid": "25c797e1-5c0a-440c-b022-16830b2fa786",
     "showTitle": false,
     "tableResultSettingsMap": {},
     "title": ""
    }
   },
   "source": [
    "# Describe the benefits and downsides of using cross-validation over a train-validation split."
   ]
  },
  {
   "cell_type": "markdown",
   "metadata": {
    "application/vnd.databricks.v1+cell": {
     "cellMetadata": {},
     "inputWidgets": {},
     "nuid": "add7059b-0409-4ada-adab-454150c5a323",
     "showTitle": false,
     "tableResultSettingsMap": {},
     "title": ""
    }
   },
   "source": [
    "## ¿Qué es Train-Validation Split?\n",
    "Es la forma más sencilla de evaluar un modelo:\n",
    "\n",
    "Se parte el dataset en dos subconjuntos:\n",
    "\n",
    "- Train set (por ejemplo, 80%)\n",
    "- Validation set (por ejemplo, 20%)\n",
    "\n",
    "Se entrena el modelo en el train set y se evalúa en el validation set.\n",
    "\n",
    "| Ventaja                     | Explicación                                                                                |\n",
    "| --------------------------- | ------------------------------------------------------------------------------------------ |\n",
    "| ✅ Rápido                    | Solo se entrena una vez. Ideal para grandes volúmenes de datos o cuando el tiempo importa. |\n",
    "| ✅ Fácil de implementar      | No necesitas bucles, simplemente haces `.randomSplit()` en Spark.                          |\n",
    "| ✅ Menor carga computacional | Útil si estás haciendo tuning con muchos modelos.                                          |\n",
    "\n",
    "| Desventaja                                   | Explicación                                                                                         |\n",
    "| -------------------------------------------- | --------------------------------------------------------------------------------------------------- |\n",
    "| ❌ Alta varianza                              | La performance depende **mucho de cómo cayó el 20%** del validation set. Podrías tener mala suerte. |\n",
    "| ❌ No aprovecha todos los datos para entrenar | Solo el 80% se usa para entrenar.                                                                   |\n",
    "\n"
   ]
  },
  {
   "cell_type": "markdown",
   "metadata": {
    "application/vnd.databricks.v1+cell": {
     "cellMetadata": {},
     "inputWidgets": {},
     "nuid": "0d00d0a8-e987-469a-96cf-646cf72131b5",
     "showTitle": false,
     "tableResultSettingsMap": {},
     "title": ""
    }
   },
   "source": [
    "\n",
    "## ¿Qué es Cross-Validation (CV)?\n",
    "Es un enfoque más robusto:\n",
    "\n",
    "- El dataset se divide en k partes (folds), por ejemplo, 5.\n",
    "- Se entrena y valida el modelo k veces, rotando los folds.\n",
    "\n",
    "Se calcula el promedio del rendimiento.\n",
    "\n",
    "| Ventaja                           | Explicación                                                            |\n",
    "| --------------------------------- | ---------------------------------------------------------------------- |\n",
    "| ✅ Más robusto                     | Reduce la varianza. La evaluación es más confiable.                    |\n",
    "| ✅ Usa todos los datos             | Cada observación actúa como parte del validation set en algún momento. |\n",
    "| ✅ Más justo para comparar modelos | Útil en selección de hiperparámetros y algoritmos.                     |\n",
    "\n",
    "| Desventaja     | Explicación                                                   |\n",
    "| -------------- | ------------------------------------------------------------- |\n",
    "| ❌ Más lento    | Se entrena el modelo k veces. Si k=5, es 5 veces más trabajo. |\n",
    "| ❌ Más complejo | Especialmente si haces Grid Search o pipelines distribuidos.  |\n"
   ]
  },
  {
   "cell_type": "markdown",
   "metadata": {
    "application/vnd.databricks.v1+cell": {
     "cellMetadata": {},
     "inputWidgets": {},
     "nuid": "da8676f9-fe74-4dff-a718-c68a282b52ea",
     "showTitle": false,
     "tableResultSettingsMap": {},
     "title": ""
    }
   },
   "source": [
    "## 📌 Puntos clave\n",
    "\n",
    "| Escenario                               | ¿Qué usar?                            | Justificación                                    |\n",
    "| --------------------------------------- | ------------------------------------- | ------------------------------------------------ |\n",
    "| Dataset muy grande (millones de filas)  | Train-validation split                | Más rápido, el volumen ya garantiza diversidad.  |\n",
    "| Dataset pequeño o desequilibrado        | Cross-validation                      | Asegura una evaluación robusta y balanceada.     |\n",
    "| Tuning intensivo (Grid o Random Search) | Train-validation split con test final | Reduce el costo computacional.                   |\n",
    "| Validación final para comparar modelos  | Cross-validation                      | Da confianza estadística al comparar resultados. |\n"
   ]
  },
  {
   "cell_type": "markdown",
   "metadata": {
    "application/vnd.databricks.v1+cell": {
     "cellMetadata": {},
     "inputWidgets": {},
     "nuid": "2b0eb1ab-5bc5-48bb-a9dd-a5d2bc7e8acc",
     "showTitle": false,
     "tableResultSettingsMap": {},
     "title": ""
    }
   },
   "source": [
    "# Use common classification metrics: F1, Log Loss, ROC/AUC, etc"
   ]
  },
  {
   "cell_type": "markdown",
   "metadata": {
    "application/vnd.databricks.v1+cell": {
     "cellMetadata": {},
     "inputWidgets": {},
     "nuid": "b68110cf-693b-4d2b-a680-0b169d131add",
     "showTitle": false,
     "tableResultSettingsMap": {},
     "title": ""
    }
   },
   "source": [
    "Metricas mencionadas en la academia:\n",
    "\n",
    "Para modelos supervisados: Accuracy, precision , recall, F1 Score, Log loss (Cross-Entropy Loss), ROC/AUC (Área bajo la curva ROC)"
   ]
  },
  {
   "cell_type": "markdown",
   "metadata": {
    "application/vnd.databricks.v1+cell": {
     "cellMetadata": {},
     "inputWidgets": {},
     "nuid": "d742449b-fb81-440a-97e9-0cbfa7bdca83",
     "showTitle": false,
     "tableResultSettingsMap": {},
     "title": ""
    }
   },
   "source": [
    "## F1 Score\n",
    "\n",
    "**Qué mide:** La media armónica entre precisión (precision) y exhaustividad (recall).\n",
    "\n",
    "**Formula**\n",
    "\n",
    "F1= 2⋅(Precision⋅Recall)/ Precision+Recall\n",
    "\n",
    "**Cuándo usarla:**\n",
    "- Cuando tienes clases desbalanceadas (por ejemplo, fraude, enfermedad rara).\n",
    "- Cuando falsos positivos y falsos negativos son importantes.\n",
    "- Mejor que accuracy si los datos están desbalanceados.\n",
    "\n",
    "**Recuerda:**\n",
    "F1 alto = buen balance entre precision y recall.\n"
   ]
  },
  {
   "cell_type": "markdown",
   "metadata": {
    "application/vnd.databricks.v1+cell": {
     "cellMetadata": {},
     "inputWidgets": {},
     "nuid": "630f4d09-ca45-47a1-b621-7bb2561dcf04",
     "showTitle": false,
     "tableResultSettingsMap": {},
     "title": ""
    }
   },
   "source": [
    "## Log Loss (a.k.a. Logarithmic Loss, Cross-Entropy Loss)\n",
    "**Qué mide:** \n",
    "- Cuánto se equivoca el modelo al predecir probabilidades.\n",
    "- Penaliza mucho las predicciones seguras pero erróneas.\n",
    "\n",
    "**Cuándo usarla:**\n",
    "- Cuando necesitas evaluar la calidad de las probabilidades predichas, no solo etiquetas.\n",
    "- Es la métrica por defecto en muchos clasificadores probabilísticos.\n",
    "- Útil en escenarios donde la calibración de probabilidad es crítica (ej. predicción médica, scoring financiero).\n",
    "\n",
    "**Recuerda:**\n",
    "- Menor LogLoss = mejor modelo.\n",
    "- Puede ser bajo aunque el modelo se equivoque poco, si las probabilidades son poco confiable"
   ]
  },
  {
   "cell_type": "markdown",
   "metadata": {
    "application/vnd.databricks.v1+cell": {
     "cellMetadata": {},
     "inputWidgets": {},
     "nuid": "71c22750-9a4f-49f6-bc37-5633fc81a414",
     "showTitle": false,
     "tableResultSettingsMap": {},
     "title": ""
    }
   },
   "source": [
    "## ROC-AUC (Receiver Operating Characteristic - Area Under Curve)**\n",
    "\n",
    "**Qué mide:**\n",
    "- La capacidad del modelo para separar clases positivas y negativas en múltiples umbrales.\n",
    "- Compara tasa de verdaderos positivos (TPR) vs tasa de falsos positivos (FPR) a distintos umbrales.\n",
    "\n",
    "**Área bajo la curva = ROC-AUC.**\n",
    "\n",
    "**Cuándo usarla:**\n",
    "- Evaluación general de la capacidad discriminatoria del modelo.\n",
    "- Muy útil en datasets desbalanceados.\n",
    "- Cuando el umbral de decisión puede cambiar según el caso de uso.\n",
    "\n",
    "**Recuerda:**\n",
    "- AUC = 0.5 → modelo aleatorio.\n",
    "- AUC = 1.0 → modelo perfecto."
   ]
  },
  {
   "cell_type": "markdown",
   "metadata": {
    "application/vnd.databricks.v1+cell": {
     "cellMetadata": {},
     "inputWidgets": {},
     "nuid": "ca4a0196-53f0-457f-ad4a-10c83d4906f4",
     "showTitle": false,
     "tableResultSettingsMap": {},
     "title": ""
    }
   },
   "source": [
    "## Accuracy\n",
    "\n",
    "**Qué mide:**\n",
    "Proporción de predicciones correctas sobre el total.\n",
    "\n",
    "**Ventaja**: Muy fácil de entender.\n",
    "\n",
    "**Desventaja:**\n",
    "\n",
    "Engañosa con datos desbalanceados.\n",
    "Por ejemplo, si el 95% de los casos son clase 0, un modelo que siempre predice 0 tendrá 95% de accuracy… aunque no haga nada útil.\n",
    "\n",
    "Uso recomendado:\n",
    "Solo cuando las clases están balanceadas y los errores en ambas clases tienen el mismo costo."
   ]
  },
  {
   "cell_type": "markdown",
   "metadata": {
    "application/vnd.databricks.v1+cell": {
     "cellMetadata": {},
     "inputWidgets": {},
     "nuid": "c9574d11-374c-4258-b258-577da00ac383",
     "showTitle": false,
     "tableResultSettingsMap": {},
     "title": ""
    }
   },
   "source": [
    "## Precision (Precisión o Valor Predictivo Positivo)**\n",
    "\n",
    "**Qué mide:**\n",
    "- La proporción de predicciones positivas que son realmente correctas.\n",
    "- De todas las veces que el modelo predijo la clase positiva, cuántas veces acertó.\n",
    "\n",
    "**Fórmula:**  \n",
    "Precision = TP / (TP + FP)\n",
    "\n",
    "**Cuándo usarla:**\n",
    "- Cuando es más importante **evitar falsos positivos**.\n",
    "- En contextos donde etiquetar algo como positivo tiene un **costo alto si se comete un error** (por ejemplo, spam, detección de tumores falsos, sistemas judiciales).\n",
    "- Cuando necesitas que las predicciones positivas sean confiables.\n",
    "\n",
    "**Recuerda:**\n",
    "- Precision = 1.0 → el modelo no comete ningún falso positivo.\n",
    "- Precision = 0.0 → todas las predicciones positivas fueron incorrectas.\n"
   ]
  },
  {
   "cell_type": "markdown",
   "metadata": {
    "application/vnd.databricks.v1+cell": {
     "cellMetadata": {},
     "inputWidgets": {},
     "nuid": "37f86709-e0c2-4073-976b-87e7ac546793",
     "showTitle": false,
     "tableResultSettingsMap": {},
     "title": ""
    }
   },
   "source": [
    "## Recall (Sensibilidad o Tasa de Verdaderos Positivos)\n",
    "\n",
    "**Qué mide:**\n",
    "- La proporción de verdaderos positivos (TP) que el modelo logra identificar correctamente.\n",
    "- De todas las observaciones que realmente pertenecen a la clase positiva, cuántas fueron correctamente detectadas.\n",
    "\n",
    "**Fórmula:**  \n",
    "Recall = TP / (TP + FN)\n",
    "\n",
    "**Cuándo usarla:**\n",
    "- Cuando es más importante **capturar todos los casos positivos**.\n",
    "- En problemas donde los falsos negativos tienen un **alto costo** (por ejemplo, detección de enfermedades, fraudes, fallos de seguridad).\n",
    "- Cuando prefieres minimizar el riesgo de pasar por alto un positivo.\n",
    "\n",
    "**Recuerda:**\n",
    "- Recall = 1.0 → el modelo no comete ningún falso negativo.\n",
    "- Recall = 0.0 → el modelo no detecta ningún positivo.\n"
   ]
  },
  {
   "cell_type": "markdown",
   "metadata": {
    "application/vnd.databricks.v1+cell": {
     "cellMetadata": {},
     "inputWidgets": {},
     "nuid": "46838bee-5800-42ba-8cfc-c7380c3aab22",
     "showTitle": false,
     "tableResultSettingsMap": {},
     "title": ""
    }
   },
   "source": [
    "## 📌 Puntos clave\n",
    "\n",
    "| Métrica              | Útil cuando…                      | Detalles clave                                                             |\n",
    "| -------------------- | --------------------------------- | -------------------------------------------------------------------------- |\n",
    "| **Accuracy**         | Las clases están balanceadas      | $(TP + TN) / total$. No recomendable si hay desbalance.                    |\n",
    "| **Precision**        | Costo de falsos positivos es alto | $\\frac{TP}{TP + FP}$. ¿Qué tan confiables son los positivos predichos?     |\n",
    "| **Recall**           | Costo de falsos negativos es alto | $\\frac{TP}{TP + FN}$. ¿Cuántos positivos reales detecta el modelo?         |\n",
    "| **PR-AUC**           | Clases muy desbalanceadas         | AUC de la curva Precision-Recall. Más informativa que ROC-AUC en ese caso. |\n",
    "| **Confusion Matrix** | Interpretabilidad                 | Te muestra TP, FP, FN, TN. Muy útil para analizar errores concretos.       |\n",
    "\n",
    "\n",
    "| Métrica              | Rango | Valor óptimo | Cuándo usarla o interpretarla                                                                            |\n",
    "| -------------------- | ----- | ------------ | -------------------------------------------------------------------------------------------------------- |\n",
    "| **Accuracy**         | 0 a 1 | Cerca de 1   | Proporción de predicciones correctas. ⚠️ **Engañosa si los datos están desbalanceados.**                 |\n",
    "| **Precision**        | 0 a 1 | Cerca de 1   | De los predichos positivos, cuántos eran realmente positivos. ⚠️ Alta si pocos **falsos positivos**.     |\n",
    "| **Recall**           | 0 a 1 | Cerca de 1   | De los positivos reales, cuántos fueron capturados. ⚠️ Alta si pocos **falsos negativos**.               |\n",
    "| **F1 Score**         | 0 a 1 | Cerca de 1   | Promedio armónico entre precision y recall. Ideal cuando hay desbalance o quieres compensar ambos.       |\n",
    "| **Log Loss**         | 0 a ∞ | Cero (0)     | Penaliza probabilidades incorrectas. **Más bajo es mejor**. Afectado si predices mal con alta confianza. |\n",
    "| **ROC AUC**          | 0 a 1 | Cerca de 1   | Mide qué tan bien el modelo separa clases. Bueno con clases balanceadas. 0.5 = random.                   |\n",
    "| **PR AUC**           | 0 a 1 | Cerca de 1   | Más útil que ROC-AUC con **clases desbalanceadas**. Se enfoca en la clase positiva.                      |\n",
    "| **Confusion Matrix** | -     | -            | Muestra TP, FP, FN, TN. Útil para calcular otras métricas y entender errores.                            |\n"
   ]
  },
  {
   "cell_type": "markdown",
   "metadata": {
    "application/vnd.databricks.v1+cell": {
     "cellMetadata": {},
     "inputWidgets": {},
     "nuid": "67fc9881-4e92-4ddb-a8d2-8a5eb94f3df8",
     "showTitle": false,
     "tableResultSettingsMap": {},
     "title": ""
    }
   },
   "source": [
    "# Use common regression metrics: RMSE, MAE, R-squared, etc."
   ]
  },
  {
   "cell_type": "markdown",
   "metadata": {
    "application/vnd.databricks.v1+cell": {
     "cellMetadata": {},
     "inputWidgets": {},
     "nuid": "86224311-7acf-4a79-8615-e19c5f4a705b",
     "showTitle": false,
     "tableResultSettingsMap": {},
     "title": ""
    }
   },
   "source": [
    "Metricas mencionadas en curso de la academia: R² (Coeficiente de determinación),  Mean Absolute Error (MAE),  Mean Squared Error (MSE), Root Mean Squared Error (RMSE)"
   ]
  },
  {
   "cell_type": "markdown",
   "metadata": {
    "application/vnd.databricks.v1+cell": {
     "cellMetadata": {},
     "inputWidgets": {},
     "nuid": "e3a953f7-d4ad-4441-bfdb-9b369584dbcc",
     "showTitle": false,
     "tableResultSettingsMap": {},
     "title": ""
    }
   },
   "source": [
    "## R² (Coeficiente de determinación)\n",
    "\n",
    "\n",
    "**Qué mide:**\n",
    "- Cuánta proporción de la varianza de la variable objetivo es explicada por el modelo.\n",
    "- Indica la calidad del ajuste del modelo a los datos.\n",
    "\n",
    "**Fórmula:**  \n",
    "R² = 1 - (Suma de errores del modelo / Suma de errores del modelo base)\n",
    "\n",
    "**Cuándo usarla:**\n",
    "- Cuando quieres saber **qué tan bien explica el modelo la variabilidad de los datos**.\n",
    "- En modelos de regresión donde el objetivo es predecir valores continuos.\n",
    "\n",
    "**Recuerda:**\n",
    "- R² = 1.0 → ajuste perfecto.\n",
    "- R² = 0.0 → el modelo no mejora sobre una predicción constante (media).\n",
    "- R² < 0.0 → el modelo es peor que simplemente predecir la media.\n"
   ]
  },
  {
   "cell_type": "markdown",
   "metadata": {
    "application/vnd.databricks.v1+cell": {
     "cellMetadata": {},
     "inputWidgets": {},
     "nuid": "7ebb72e1-5562-45db-a0aa-a289a9a1fe5b",
     "showTitle": false,
     "tableResultSettingsMap": {},
     "title": ""
    }
   },
   "source": [
    "## Mean Absolute Error (MAE)\n",
    "\n",
    "**Qué mide:**\n",
    "- El error promedio absoluto entre las predicciones y los valores reales.\n",
    "- Mide la magnitud promedio del error sin considerar su dirección.\n",
    "\n",
    "**Fórmula:**  \n",
    "MAE = (1/n) ∑ |y_real - y_pred|\n",
    "\n",
    "**Cuándo usarla:**\n",
    "- Cuando necesitas una métrica de error **fácil de interpretar en las mismas unidades de la variable objetivo**.\n",
    "- Cuando deseas que todos los errores cuenten por igual (sin penalizar más los errores grandes).\n",
    "\n",
    "**Recuerda:**\n",
    "- MAE es más robusta frente a valores atípicos que MSE o RMSE.\n",
    "- MAE = 0 → el modelo predice perfectamente todos los valores.\n",
    "\n",
    "\n"
   ]
  },
  {
   "cell_type": "markdown",
   "metadata": {
    "application/vnd.databricks.v1+cell": {
     "cellMetadata": {},
     "inputWidgets": {},
     "nuid": "9eadebbf-0894-487e-96c6-93f85c34df4d",
     "showTitle": false,
     "tableResultSettingsMap": {},
     "title": ""
    }
   },
   "source": [
    "## Mean Squared Error (MSE)\n",
    "\n",
    "**Qué mide:**\n",
    "- El promedio de los errores al cuadrado entre las predicciones y los valores reales.\n",
    "- Penaliza los errores grandes de forma más severa que MAE.\n",
    "\n",
    "**Fórmula:**  \n",
    "MSE = (1/n) ∑ (y_real - y_pred)²\n",
    "\n",
    "**Cuándo usarla:**\n",
    "- Cuando quieres penalizar más fuertemente los **errores grandes**.\n",
    "- En problemas donde los outliers son relevantes o deben evitarse.\n",
    "\n",
    "**Recuerda:**\n",
    "- MSE siempre es ≥ 0.\n",
    "- Cuanto más pequeño, mejor es el modelo.\n",
    "- Está en unidades cuadradas de la variable objetivo.\n"
   ]
  },
  {
   "cell_type": "markdown",
   "metadata": {
    "application/vnd.databricks.v1+cell": {
     "cellMetadata": {},
     "inputWidgets": {},
     "nuid": "5ff68dd7-3ced-4d07-92d1-e46af9d72ce1",
     "showTitle": false,
     "tableResultSettingsMap": {},
     "title": ""
    }
   },
   "source": [
    "## Root Mean Squared Error (RMSE)\n",
    "\n",
    "**Qué mide:**\n",
    "- La raíz cuadrada del error cuadrático medio.\n",
    "- Representa el error típico de predicción en las mismas unidades que la variable objetivo.\n",
    "\n",
    "**Fórmula:**  \n",
    "RMSE = √( (1/n) ∑ (y_real - y_pred)² )\n",
    "\n",
    "**Cuándo usarla:**\n",
    "- Cuando quieres penalizar errores grandes y **mantener las unidades originales** de la variable.\n",
    "- Es útil para interpretar el error en el mismo contexto del negocio.\n",
    "\n",
    "**Recuerda:**\n",
    "- RMSE es más sensible a errores grandes que MAE.\n",
    "- Cuanto menor sea el RMSE, mejor es el modelo.\n"
   ]
  },
  {
   "cell_type": "markdown",
   "metadata": {
    "application/vnd.databricks.v1+cell": {
     "cellMetadata": {},
     "inputWidgets": {},
     "nuid": "83e782b5-f0f0-4f1b-b646-aa4e562ce65f",
     "showTitle": false,
     "tableResultSettingsMap": {},
     "title": ""
    }
   },
   "source": [
    "## 📌 Puntos clave\n",
    "| Métrica                                      | Rango   | Valor óptimo | Qué mide                                                                                   | Cuándo usarla o preferirla                                                                                                   |\n",
    "| -------------------------------------------- | ------- | ------------ | ------------------------------------------------------------------------------------------ | ---------------------------------------------------------------------------------------------------------------------------- |\n",
    "| **MAE** (Mean Absolute Error)                | 0 a ∞   | 0 (cero)     | Promedio de errores absolutos. Mide cuán lejos están las predicciones del valor real.      | Fácil de interpretar. Menos sensible a valores extremos (outliers).                                                          |\n",
    "| **RMSE** (Root Mean Squared Error)           | 0 a ∞   | 0 (cero)     | Raíz cuadrada del promedio de los errores al cuadrado. Penaliza más los errores grandes.   | Útil si quieres castigar más los errores grandes.                                                                            |\n",
    "| **R-squared** (Coeficiente de determinación) | -∞ a 1  | 1            | Cuánto del total de la varianza del target explica el modelo.                              | Métrica estándar general para evaluar qué tan bien se ajusta el modelo.                                                      |\n",
    "| **MAPE** (Mean Absolute Percentage Error)    | 0% a ∞% | 0%           | Error absoluto expresado como porcentaje del valor real.                                   | Bueno para presentaciones o comparación entre modelos en escalas distintas. ⚠️ Puede fallar con valores reales cercanos a 0. |\n",
    "| **MSLE** (Mean Squared Logarithmic Error)    | 0 a ∞   | 0            | Similar a MSE, pero usa el log de los valores. Reduce impacto de errores en valores altos. | Útil cuando te interesa el **error relativo**, no el valor absoluto.                                                         |\n"
   ]
  },
  {
   "cell_type": "markdown",
   "metadata": {
    "application/vnd.databricks.v1+cell": {
     "cellMetadata": {},
     "inputWidgets": {},
     "nuid": "3ac3e2b0-d859-406e-a7d4-c18ba0d6772e",
     "showTitle": false,
     "tableResultSettingsMap": {},
     "title": ""
    }
   },
   "source": [
    "## Otras métricas mencionadas en la academia "
   ]
  },
  {
   "cell_type": "markdown",
   "metadata": {
    "application/vnd.databricks.v1+cell": {
     "cellMetadata": {},
     "inputWidgets": {},
     "nuid": "34dd7bc4-6af0-4479-b2d8-c15dfa938b78",
     "showTitle": false,
     "tableResultSettingsMap": {},
     "title": ""
    }
   },
   "source": [
    "### **Silhouette Score (Índice de Silueta) - Modelos NO supervizados**\n",
    "\n",
    "**Qué mide:**\n",
    "- Qué tan bien se agrupa un punto dentro de su propio clúster en comparación con otros clústeres.\n",
    "- Evalúa **la cohesión y separación** de los clústeres.\n",
    "\n",
    "**Fórmula:**  \n",
    "Silhouette = (b - a) / max(a, b)  \n",
    "Donde:  \n",
    "- a = distancia media al resto de puntos en el mismo clúster  \n",
    "- b = distancia media al clúster más cercano\n",
    "\n",
    "**Cuándo usarla:**\n",
    "- Para **evaluar la calidad del clustering**, especialmente en k-means, DBSCAN, etc.\n",
    "- Para **comparar resultados con diferentes valores de k (número de clústeres)**.\n",
    "\n",
    "**Recuerda:**\n",
    "- Silhouette cerca de **1.0** → puntos bien agrupados.\n",
    "- Silhouette cerca de **0.0** → puntos en el borde entre clústeres.\n",
    "- Silhouette **< 0.0** → puntos mal asignados.\n"
   ]
  },
  {
   "cell_type": "markdown",
   "metadata": {
    "application/vnd.databricks.v1+cell": {
     "cellMetadata": {},
     "inputWidgets": {},
     "nuid": "75482217-f885-4b29-a0cf-f63fe57e16ca",
     "showTitle": false,
     "tableResultSettingsMap": {},
     "title": ""
    }
   },
   "source": [
    "### **Elbow Method (Método del Codo)**\n",
    "\n",
    "**Qué mide:**\n",
    "- Ayuda a determinar el número óptimo de clústeres (**k**) al observar la variación explicada por el modelo.\n",
    "\n",
    "**Cómo se aplica:**\n",
    "- Se entrena el modelo con diferentes valores de **k**.\n",
    "- Se grafica el valor de la inercia (Suma de errores cuadráticos dentro del clúster: SSE) contra k.\n",
    "- El punto donde la **disminución de SSE se vuelve menos pronunciada** es el “codo”, el valor óptimo de k.\n",
    "\n",
    "**Cuándo usarla:**\n",
    "- En algoritmos de clustering como **k-means**.\n",
    "- Para **estimar de forma visual y empírica el número de clústeres adecuados**.\n",
    "\n",
    "**Recuerda:**\n",
    "- No siempre hay un codo claro.\n",
    "- Es una **técnica heurística**: se complementa bien con métricas como Silhouette Score.\n"
   ]
  },
  {
   "cell_type": "markdown",
   "metadata": {
    "application/vnd.databricks.v1+cell": {
     "cellMetadata": {},
     "inputWidgets": {},
     "nuid": "727f5c71-327a-481b-986b-e1145a9c6da1",
     "showTitle": false,
     "tableResultSettingsMap": {},
     "title": ""
    }
   },
   "source": [
    "# Choose the most appropriate metric for a given scenario objective"
   ]
  },
  {
   "cell_type": "markdown",
   "metadata": {
    "application/vnd.databricks.v1+cell": {
     "cellMetadata": {},
     "inputWidgets": {},
     "nuid": "512b0506-b918-4849-82b2-7d4709f8fc50",
     "showTitle": false,
     "tableResultSettingsMap": {},
     "title": ""
    }
   },
   "source": [
    "## Clasificación binaria (0 o 1)\n",
    "| Escenario                                                                         | Métrica ideal          | ¿Por qué?                                                               |\n",
    "| --------------------------------------------------------------------------------- | ---------------------- | ----------------------------------------------------------------------- |\n",
    "| **Clases balanceadas**, quieres precisión general                                 | **Accuracy**           | Sencilla y útil si el dataset está balanceado.                          |\n",
    "| **Clases desbalanceadas** (ej: 95% negativos)                                     | **F1 Score o ROC-AUC** | Accuracy es engañosa. F1 equilibra precisión y recall.                  |\n",
    "| **Evitar falsos negativos (FN)** es crítico (ej: fraude, cáncer)                  | **Recall**             | Detectar todos los positivos. Mejor un falso positivo que uno negativo. |\n",
    "| **Evitar falsos positivos (FP)** es más crítico (ej: cárcel, alarmas falsas)      | **Precision**          | Sólo queremos marcar positivo si estamos muy seguros.                   |\n",
    "| Predices **probabilidades** y quieres medir qué tan bien calibrado está el modelo | **Log Loss**           | Penaliza fuertemente la sobreconfianza con errores.                     |\n"
   ]
  },
  {
   "cell_type": "markdown",
   "metadata": {
    "application/vnd.databricks.v1+cell": {
     "cellMetadata": {},
     "inputWidgets": {},
     "nuid": "ad874854-2938-42e3-80e4-b75ebf0dd019",
     "showTitle": false,
     "tableResultSettingsMap": {},
     "title": ""
    }
   },
   "source": [
    "## Clasificación multiclase (más de 2 clases)\n",
    "\n",
    "| Escenario                                                | Métrica ideal                       | ¿Por qué?                                   |\n",
    "| -------------------------------------------------------- | ----------------------------------- | ------------------------------------------- |\n",
    "| Todas las clases tienen similar importancia              | **Accuracy**                        | Correcto en general si no hay desbalance.   |\n",
    "| Algunas clases son más importantes o hay desbalance      | **F1 macro o weighted**             | Equilibra la contribución de cada clase.    |\n",
    "| Interesa más una clase específica (ej: detectar clase C) | **Precision/Recall para esa clase** | Foco en clase minoritaria o de alto riesgo. |\n"
   ]
  },
  {
   "cell_type": "markdown",
   "metadata": {
    "application/vnd.databricks.v1+cell": {
     "cellMetadata": {},
     "inputWidgets": {},
     "nuid": "add9995f-d5e2-4a3d-812d-063c8e79487d",
     "showTitle": false,
     "tableResultSettingsMap": {},
     "title": ""
    }
   },
   "source": [
    "## Regresión\n",
    "| Escenario                                                                              | Métrica ideal                                    | ¿Por qué?                                                                               |\n",
    "| -------------------------------------------------------------------------------------- | ------------------------------------------------ | --------------------------------------------------------------------------------------- |\n",
    "| Quieres un error promedio fácil de entender                                            | **MAE**                                          | Intuitivo. Poco sensible a outliers.                                                    |\n",
    "| Quieres penalizar errores grandes más fuertemente                                      | **RMSE**                                         | Ideal si los errores grandes son muy costosos.                                          |\n",
    "| Quieres saber qué tan bien el modelo explica la varianza                               | **R-squared (R²)**                               | Muy común. “Qué tanto del target está explicado por el modelo”.                         |\n",
    "| Trabajas con **precios, ventas**, y necesitas comparar modelos entre escalas distintas | **MAPE**                                         | Da errores en porcentaje, muy útil para reporting. ⚠️ No usar si el target tiene ceros. |\n",
    "| Target fue **log-transformado (ej: np.log1p(y))**                                      | **Evalúa sobre np.expm1(pred)** y usa MAE o RMSE | Siempre deshace el log antes de evaluar. Evita métricas sobre escala logarítmica.       |\n",
    "| Quieres medir precisión relativa en crecimiento o tasas                                | **MSLE**                                         | Penaliza menos errores absolutos grandes; útil con datos de crecimiento.                |\n"
   ]
  },
  {
   "cell_type": "markdown",
   "metadata": {
    "application/vnd.databricks.v1+cell": {
     "cellMetadata": {},
     "inputWidgets": {},
     "nuid": "4865c862-f191-41cc-8229-c2d1951b979b",
     "showTitle": false,
     "tableResultSettingsMap": {},
     "title": ""
    }
   },
   "source": [
    "## 📌 Puntos clave\n",
    "| Concepto                                      | Pregunta frecuente                                                         |\n",
    "| --------------------------------------------- | -------------------------------------------------------------------------- |\n",
    "| ¿Accuracy funciona con clases desbalanceadas? | ❌ No. Usa F1 o ROC-AUC.                                                    |\n",
    "| ¿Se puede usar RMSE con log-transform?        | ✅ Solo si deslog-transformas antes (`np.expm1`).                           |\n",
    "| ¿MAPE falla con ceros?                        | ✅ Sí, porque divide por el valor real.                                     |\n",
    "| ¿Cuándo usar Log Loss?                        | ✅ Cuando predices probabilidades. Penaliza con fuerza los errores seguros. |\n",
    "| ¿ROC-AUC qué mide?                            | ✅ La capacidad del modelo de rankear correctamente entre clases.           |\n",
    "\n",
    "**1. ¿Qué debes saber?**\n",
    "\n",
    "- Debes ser capaz de:\n",
    "- Distinguir entre métricas de clasificación y regresión.\n",
    "- Saber qué métrica favorece un objetivo específico: minimizar falsos negativos, castigar errores grandes, interpretar probabilidades, etc.\n",
    "- Elegir métricas cuando hay desbalance de clases, predicción de probabilidades, o necesidad de explicabilidad.\n",
    "- Identificar si el target fue log-transformado, y si se debe aplicar np.expm1() antes de evaluar."
   ]
  },
  {
   "cell_type": "markdown",
   "metadata": {
    "application/vnd.databricks.v1+cell": {
     "cellMetadata": {},
     "inputWidgets": {},
     "nuid": "b4dbea13-e14c-4698-af1b-0c70ae944dac",
     "showTitle": false,
     "tableResultSettingsMap": {},
     "title": ""
    }
   },
   "source": [
    "# Identify the need to exponentiate log-transformed variables before calculating evaluation metrics or interpreting predictions\n"
   ]
  },
  {
   "cell_type": "markdown",
   "metadata": {
    "application/vnd.databricks.v1+cell": {
     "cellMetadata": {},
     "inputWidgets": {},
     "nuid": "ece16505-0976-4a81-892a-8417fb34bc40",
     "showTitle": false,
     "tableResultSettingsMap": {},
     "title": ""
    }
   },
   "source": [
    "¿Por qué se usan transformaciones logarítmicas en regresión?\n",
    "- Para que distribuciones muy sesgadas (skewed) se asemejen más a una gaussiana (normal).\n",
    "- Para reducir el impacto de valores extremos o outliers.\n",
    "- Para que modelos lineales funcionen mejor cuando hay relaciones exponenciales o multiplicativas.\n",
    "\n",
    "¿Qué implica usar log en el target?\n",
    "Cuando transformas tu variable objetivo (y) con logaritmo antes de entrenar, estás haciendo que el modelo aprenda a predecir log(y), no y directamente.\n",
    "\n",
    "\n"
   ]
  },
  {
   "cell_type": "code",
   "execution_count": 0,
   "metadata": {
    "application/vnd.databricks.v1+cell": {
     "cellMetadata": {},
     "inputWidgets": {},
     "nuid": "14a7bc97-b908-4164-92ca-05b96255d11a",
     "showTitle": false,
     "tableResultSettingsMap": {},
     "title": ""
    }
   },
   "outputs": [],
   "source": [
    "train_df = train_df.withColumn(\"label\", log1p(\"price\"))  # log1p(x) = log(x + 1)"
   ]
  },
  {
   "cell_type": "markdown",
   "metadata": {
    "application/vnd.databricks.v1+cell": {
     "cellMetadata": {},
     "inputWidgets": {},
     "nuid": "616a6577-208e-4e84-8130-6b91aa2aac60",
     "showTitle": false,
     "tableResultSettingsMap": {},
     "title": ""
    }
   },
   "source": [
    "**Entonces, ¿qué error cometen muchos?**\n",
    "\n",
    "- Evaluar el modelo sobre log(y_pred) y log(y_test) está bien si te interesa performance en la escala logarítmica.\n",
    "- Pero si quieres evaluar el rendimiento real (RMSE en dólares, por ejemplo), tienes que invertir la transformación (con expm1):"
   ]
  },
  {
   "cell_type": "code",
   "execution_count": 0,
   "metadata": {
    "application/vnd.databricks.v1+cell": {
     "cellMetadata": {},
     "inputWidgets": {},
     "nuid": "3ed7093c-5791-49ed-ba9d-4241c5417dee",
     "showTitle": false,
     "tableResultSettingsMap": {},
     "title": ""
    }
   },
   "outputs": [],
   "source": [
    "from pyspark.sql.functions import expm1\n",
    "\n",
    "# Corrige predicciones antes de evaluar\n",
    "pred_df = pred_df.withColumn(\"prediction_exp\", expm1(\"prediction\"))\n",
    "pred_df = pred_df.withColumn(\"label_exp\", expm1(\"label\"))\n",
    "\n",
    "# Ahora sí puedes calcular RMSE real\n",
    "evaluator = RegressionEvaluator(\n",
    "    labelCol=\"label_exp\",\n",
    "    predictionCol=\"prediction_exp\",\n",
    "    metricName=\"rmse\"\n",
    ")\n"
   ]
  },
  {
   "cell_type": "markdown",
   "metadata": {
    "application/vnd.databricks.v1+cell": {
     "cellMetadata": {},
     "inputWidgets": {},
     "nuid": "218b7d21-6295-437b-8589-5056e68a42ba",
     "showTitle": false,
     "tableResultSettingsMap": {},
     "title": ""
    }
   },
   "source": [
    "**¿Qué pasa si no haces expm1() antes de evaluar?**\n",
    "\n",
    "Tu RMSE, MAE o R² será en la escala del log, y no representará errores reales en la escala del negocio.\n",
    "Por ejemplo:\n",
    "\n",
    "- Un error de 0.1 en log(price) no se traduce directamente en 0.1 dólares.\n",
    "- Podrías tener un modelo con bajo error logarítmico, pero con errores enormes en precios reales."
   ]
  },
  {
   "cell_type": "markdown",
   "metadata": {
    "application/vnd.databricks.v1+cell": {
     "cellMetadata": {},
     "inputWidgets": {},
     "nuid": "7b00db8a-7543-4c01-8524-3edd01e9102f",
     "showTitle": false,
     "tableResultSettingsMap": {},
     "title": ""
    }
   },
   "source": [
    "## 📌 Puntos clave\n",
    "| Situación                                                      | ¿Aplico `expm1()` antes de evaluar? | Métricas que se afectan |\n",
    "| -------------------------------------------------------------- | ----------------------------------- | ----------------------- |\n",
    "| Quiero medir RMSE real en dólares                              | ✅ Sí                                | RMSE, MAE, MAPE         |\n",
    "| Voy a interpretar predicciones (por ejemplo, precio estimado)  | ✅ Sí                                | Todas                   |\n",
    "| Sólo me interesa performance en log-escala (estudio académico) | ❌ No                                | RMSE (log), R² (log)    |\n",
    "| Estoy graficando residuos o errores                            | ✅ Sí                                | Para interpretar bien   |\n",
    "\n",
    "Pro tip (¡súper útil para el examen!):\n",
    "\n",
    "- Si ves \"label\" como log1p(y) en el código, busca si usan expm1 antes de evaluar o graficar. Si no, probablemente hay un error que deberás identificar.\n",
    "- Te pueden mostrar dos pipelines, uno correcto y otro sin expm1() y preguntarte cuál da métricas válidas."
   ]
  },
  {
   "cell_type": "markdown",
   "metadata": {
    "application/vnd.databricks.v1+cell": {
     "cellMetadata": {},
     "inputWidgets": {},
     "nuid": "7afeab05-91ac-4f03-af6d-8d9a8e9a2089",
     "showTitle": false,
     "tableResultSettingsMap": {},
     "title": ""
    }
   },
   "source": [
    "# Assess the impact of model complexity and the bias variance tradeoff on model performance"
   ]
  },
  {
   "cell_type": "markdown",
   "metadata": {
    "application/vnd.databricks.v1+cell": {
     "cellMetadata": {},
     "inputWidgets": {},
     "nuid": "7c119f69-2702-47d7-8ae2-ddf738783f4e",
     "showTitle": false,
     "tableResultSettingsMap": {},
     "title": ""
    }
   },
   "source": [
    "**¿Qué es el tradeoff bias-variance?**\n",
    "\n",
    "Es un principio fundamental en machine learning que describe el equilibrio entre dos tipos de error que afectan al rendimiento del modelo:\n",
    "\n",
    "Tipo de error\tQué significa\tCausa principal\n",
    "Bias (sesgo)\tError por supuestos demasiado simples sobre los datos\tModelo demasiado simple (subajuste / underfitting)\n",
    "Varianza\tError por sensibilidad excesiva a los datos de entrenamiento\tModelo demasiado complejo (sobreajuste / overfitting)\n",
    "\n",
    "**Relación con la complejidad del modelo**\n",
    "\n",
    "A medida que aumentas la complejidad del modelo:\n",
    "\n",
    "- El bias disminuye → el modelo se ajusta mejor a los datos.\n",
    "- Pero la varianza aumenta → el modelo se vuelve más inestable frente a datos nuevos.\n",
    "\n",
    "Esto se conoce como la curva en U del error total:"
   ]
  },
  {
   "cell_type": "markdown",
   "metadata": {
    "application/vnd.databricks.v1+cell": {
     "cellMetadata": {},
     "inputWidgets": {},
     "nuid": "20b973e2-c154-4628-8e7c-369065d104ed",
     "showTitle": false,
     "tableResultSettingsMap": {},
     "title": ""
    }
   },
   "source": [
    "## 📌 Puntos clave\n",
    "\n",
    "**Ejemplos en modelos reales**\n",
    "| Modelo o técnica                   | Complejidad típica | Riesgo principal            |\n",
    "| ---------------------------------- | ------------------ | --------------------------- |\n",
    "| Regresión lineal                   | Baja               | Alto bias                   |\n",
    "| Árbol de decisión con maxDepth=2   | Baja               | Alto bias                   |\n",
    "| Árbol de decisión sin restricción  | Alta               | Alta varianza               |\n",
    "| Random Forest (con `n_estimators`) | Media              | Generaliza bien             |\n",
    "| Gradient Boosting                  | Alta               | Alta varianza si no regulas |\n",
    "| Regularización (L1/L2)             | Reduce complejidad | Baja varianza               |\n",
    "\n",
    "**Resumen que debes saber para el examen**\n",
    "\n",
    "| Concepto                        | Señales típicas                   | Soluciones                                                      |\n",
    "| ------------------------------- | --------------------------------- | --------------------------------------------------------------- |\n",
    "| **High bias (underfitting)**    | Error alto en train y test        | Aumentar complejidad, usar modelo más flexible                  |\n",
    "| **High variance (overfitting)** | Error bajo en train, alto en test | Regularización, cross-validation, más datos, simplificar modelo |\n",
    "| **Good generalization**         | Error similar en train y test     | ¡Ideal!                                                         |\n",
    "\n"
   ]
  }
 ],
 "metadata": {
  "application/vnd.databricks.v1+notebook": {
   "computePreferences": null,
   "dashboards": [],
   "environmentMetadata": {
    "base_environment": "",
    "environment_version": "2"
   },
   "inputWidgetPreferences": null,
   "language": "python",
   "notebookMetadata": {
    "pythonIndentUnit": 4
   },
   "notebookName": "Section 3: Model Development",
   "widgets": {}
  },
  "language_info": {
   "name": "python"
  }
 },
 "nbformat": 4,
 "nbformat_minor": 0
}
