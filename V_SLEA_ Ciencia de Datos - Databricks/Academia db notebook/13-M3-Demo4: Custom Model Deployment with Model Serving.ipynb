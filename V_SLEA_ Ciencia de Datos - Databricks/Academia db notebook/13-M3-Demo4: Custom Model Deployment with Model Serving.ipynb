{
 "cells": [
  {
   "cell_type": "markdown",
   "metadata": {
    "application/vnd.databricks.v1+cell": {
     "cellMetadata": {},
     "inputWidgets": {},
     "nuid": "5e7176ab-b85a-4302-892e-34b52ba23fe8",
     "showTitle": false,
     "tableResultSettingsMap": {},
     "title": ""
    }
   },
   "source": [
    "# Custom Model Deployment with Model Serving\n",
    "\n",
    "Databricks Model Serving provides an easy way of deploying ML models for real-time inference. In some cases, you may need to deploy custom pipelines for your models. An example would be implementing a pre or post processing of the inference result.\n",
    "\n",
    "In this demo, we will demonstrate how you could use **MLflow's `PythonModel`** to implement a post-processing step for your model and serve it with Model Serving.\n",
    "\n",
    "## Learning Objectives:\n",
    "\n",
    "*By the end of this demo, you will be able to;*\n",
    "\n",
    "- Deploy a model with custom logic using Model Serving.\n",
    "- Create and manage serving endpoints using the API.\n"
   ]
  },
  {
   "cell_type": "markdown",
   "metadata": {
    "application/vnd.databricks.v1+cell": {
     "cellMetadata": {},
     "inputWidgets": {},
     "nuid": "b15eb6b2-36ef-4a79-8cf1-f7b3e10e47fa",
     "showTitle": false,
     "tableResultSettingsMap": {},
     "title": ""
    }
   },
   "source": [
    "## Requirements\n",
    "\n",
    "Please review the following requirements before starting the lesson:\n",
    "\n",
    "- To run this notebook, you need to use one of the following Databricks runtime(s): `{{supported_dbrs}}`\n"
   ]
  },
  {
   "cell_type": "markdown",
   "metadata": {
    "application/vnd.databricks.v1+cell": {
     "cellMetadata": {},
     "inputWidgets": {},
     "nuid": "4edd1f6e-81b7-4ac6-a1c0-ed7c55f0baa5",
     "showTitle": false,
     "tableResultSettingsMap": {},
     "title": ""
    }
   },
   "source": [
    "## Classroom Setup\n",
    "\n",
    "Before starting the demo, run the provided classroom setup script. This script will define configuration variables necessary for the demo. Execute the following cell:\n"
   ]
  },
  {
   "cell_type": "code",
   "execution_count": 0,
   "metadata": {
    "application/vnd.databricks.v1+cell": {
     "cellMetadata": {},
     "inputWidgets": {},
     "nuid": "900599f3-ed85-4c77-aee2-322f36089e6f",
     "showTitle": false,
     "tableResultSettingsMap": {},
     "title": ""
    }
   },
   "outputs": [],
   "source": [
    "%pip install databricks-sdk --upgrade\n",
    "\n",
    "dbutils.library.restartPython()\n"
   ]
  },
  {
   "cell_type": "code",
   "execution_count": 0,
   "metadata": {
    "application/vnd.databricks.v1+cell": {
     "cellMetadata": {},
     "inputWidgets": {},
     "nuid": "7b4da602-c97f-4dc7-ac8c-8a0db583de38",
     "showTitle": false,
     "tableResultSettingsMap": {},
     "title": ""
    }
   },
   "outputs": [],
   "source": [
    "%run ../Includes/Classroom-Setup-01\n"
   ]
  },
  {
   "cell_type": "markdown",
   "metadata": {
    "application/vnd.databricks.v1+cell": {
     "cellMetadata": {},
     "inputWidgets": {},
     "nuid": "ea3b1ef0-02c7-4261-9106-5b69d34ad6a0",
     "showTitle": false,
     "tableResultSettingsMap": {},
     "title": ""
    }
   },
   "source": [
    "## Other Conventions:\n",
    "\n",
    "Throughout this demo, we'll refer to the object `DA`. This object, provided by Databricks Academy, contains variables such as your username, catalog name, schema name, working directory, and dataset locations. Run the code block below to view these details:\n"
   ]
  },
  {
   "cell_type": "markdown",
   "metadata": {
    "application/vnd.databricks.v1+cell": {
     "cellMetadata": {},
     "inputWidgets": {},
     "nuid": "47f55130-b066-4f7e-bd65-9229035c4906",
     "showTitle": false,
     "tableResultSettingsMap": {},
     "title": ""
    }
   },
   "source": [
    "## Data Preparation\n",
    "\n",
    "For this demonstration, we will use a fictional dataset from a Telecom Company, which includes customer information. This dataset encompasses **customer demographics**, including internet subscription details such as subscription plans, monthly charges and payment methods.\n",
    "\n",
    "After load the dataset, we will perform simple **data cleaning and feature selection**.\n",
    "\n",
    "In the final step, we will split the dataset to **features** and **response** sets.\n"
   ]
  },
  {
   "cell_type": "code",
   "execution_count": 0,
   "metadata": {
    "application/vnd.databricks.v1+cell": {
     "cellMetadata": {},
     "inputWidgets": {},
     "nuid": "19ec49cd-5042-4686-9f48-88f49377450b",
     "showTitle": false,
     "tableResultSettingsMap": {},
     "title": ""
    }
   },
   "outputs": [],
   "source": [
    "from pyspark.sql.functions import col\n",
    "\n",
    "# dataset path\n",
    "dataset_p_telco = f\"{DA.paths.datasets}/telco/telco-customer-churn.csv\"\n",
    "\n",
    "# Dataset specs\n",
    "primary_key = \"customerID\"\n",
    "response = \"Churn\"\n",
    "features = [\"SeniorCitizen\", \"tenure\", \"MonthlyCharges\", \"TotalCharges\"]  # Keeping numerical only for simplicity and demo purposes\n",
    "\n",
    "# Read dataset (and drop nan)\n",
    "# Convert all fields to double for spark compatibility\n",
    "telco_df = spark.read.csv(dataset_p_telco, inferSchema=True, header=True, multiline=True, escape=\"\")\\\n",
    "  .withColumn(\"TotalCharges\", col(\"TotalCharges\").cast(\"double\"))\\\n",
    "  .withColumn(\"SeniorCitizen\", col(\"SeniorCitizen\").cast(\"double\"))\\\n",
    "  .withColumn(\"Tenure\", col(\"tenure\").cast(\"double\"))\\\n",
    "  .na.drop(how=\"any\")\n",
    "\n",
    "# Separate features and ground-truth\n",
    "features_df = telco_df.select(primary_key, *features)\n",
    "response_df = telco_df.select(primary_key, response)\n",
    "\n",
    "# Convert data to pandas dataframes\n",
    "X_train_pdf = features_df.drop(primary_key).toPandas()\n",
    "y_train_pdf = response_df.drop(primary_key).toPandas()\n"
   ]
  },
  {
   "cell_type": "code",
   "execution_count": 0,
   "metadata": {
    "application/vnd.databricks.v1+cell": {
     "cellMetadata": {},
     "inputWidgets": {},
     "nuid": "2e2d227d-816a-4bc8-b108-e18b934aa759",
     "showTitle": false,
     "tableResultSettingsMap": {},
     "title": ""
    }
   },
   "outputs": [],
   "source": [
    "import mlflow\n",
    "\n",
    "# Point to UC model registry\n",
    "client = mlflow.MlflowClient()\n",
    "mlflow.set_registry_uri(\"databricks-uc\")\n"
   ]
  },
  {
   "cell_type": "markdown",
   "metadata": {
    "application/vnd.databricks.v1+cell": {
     "cellMetadata": {},
     "inputWidgets": {},
     "nuid": "183bbefc-ae73-40e0-99cc-ee6b497dfea2",
     "showTitle": false,
     "tableResultSettingsMap": {},
     "title": ""
    }
   },
   "source": [
    "## Fit and Register a Custom Model\n",
    "\n",
    "Before we start model deployment process, we will **fit and register a custom model**.\n",
    "\n",
    "Deploying custom pipeline for models typically involves following steps;\n",
    "\n",
    "1. Declare **wrapper classes** for custom models  \n",
    "2. Train base model  \n",
    "3. Instantiate custom model using trained base model & log to registry\n"
   ]
  },
  {
   "cell_type": "markdown",
   "metadata": {
    "application/vnd.databricks.v1+cell": {
     "cellMetadata": {},
     "inputWidgets": {},
     "nuid": "94a9d019-c372-4bc6-bbf6-905d4e585959",
     "showTitle": false,
     "tableResultSettingsMap": {},
     "title": ""
    }
   },
   "source": [
    "### Define Wrapper Class\n",
    "\n",
    "We will use MLflow's `PythonModel` class to create a custom pipeline. `predict` function of the class implements the custom logic.\n"
   ]
  },
  {
   "cell_type": "code",
   "execution_count": 0,
   "metadata": {
    "application/vnd.databricks.v1+cell": {
     "cellMetadata": {},
     "inputWidgets": {},
     "nuid": "eaa82ccd-9d1b-49ce-8eb2-c9deb4cdeda4",
     "showTitle": false,
     "tableResultSettingsMap": {},
     "title": ""
    }
   },
   "outputs": [],
   "source": [
    "import pandas as pd\n",
    "\n",
    "# Model wrapper class to output labels and associated probabilities\n",
    "class CustomProbaModel(mlflow.pyfunc.PythonModel):\n",
    "    \n",
    "    # Initialize model in the constructor\n",
    "    def __init__(self, model):\n",
    "        self.model = model\n",
    "\n",
    "    # Prediction function\n",
    "    def predict(self, context, model_input):\n",
    "        # Predict the probabilities and class\n",
    "        prediction_probabilities = self.model.predict_proba(model_input)\n",
    "        predictions = self.model.predict(model_input)\n",
    "\n",
    "        # Organize multiple outputs\n",
    "        class_labels = [\"No\", \"Yes\"]\n",
    "        result = pd.DataFrame(prediction_probabilities, columns=[f'prob_{label}' for label in class_labels])\n",
    "        result['prediction'] = predictions\n",
    "\n",
    "        return result\n",
    "\n",
    "# Dummy model outputting array\n",
    "class CustomCodeModel(mlflow.pyfunc.PythonModel):\n",
    "    def __init__(self):\n",
    "        pass\n",
    "\n",
    "    def predict(self, context, data):\n",
    "        return [j for j in range(0, data.shape[0])]\n"
   ]
  },
  {
   "cell_type": "markdown",
   "metadata": {
    "application/vnd.databricks.v1+cell": {
     "cellMetadata": {},
     "inputWidgets": {},
     "nuid": "e4010b40-873b-443b-97c7-e439c2498fc3",
     "showTitle": false,
     "tableResultSettingsMap": {},
     "title": ""
    }
   },
   "source": [
    "## Train Base Model\n",
    "\n",
    "In this step, **we will fit the model as normal**.\n",
    "\n",
    "Next, and the most important step is **wrapping the model with custom class that we created**.  \n",
    "Then, **wrapped model is logged with MLflow**.\n"
   ]
  },
  {
   "cell_type": "code",
   "execution_count": 0,
   "metadata": {
    "application/vnd.databricks.v1+cell": {
     "cellMetadata": {},
     "inputWidgets": {},
     "nuid": "4c73aef5-d02b-46ed-8f45-0c0bc2d53f0e",
     "showTitle": false,
     "tableResultSettingsMap": {},
     "title": ""
    }
   },
   "outputs": [],
   "source": [
    "from sklearn.model_selection import train_test_split\n",
    "from sklearn.tree import DecisionTreeClassifier\n",
    "  \n",
    "X_train, X_test, y_train, y_test = train_test_split(X_train_pdf, Y_train_pdf, test_size=0.2, random_state=42)\n",
    "\n",
    "# Initialize and train RandomForestClassifier\n",
    "rf = DecisionTreeClassifier(max_depth=3, random_state=42)\n",
    "rf.fit(X_train, y_train)\n"
   ]
  },
  {
   "cell_type": "markdown",
   "metadata": {
    "application/vnd.databricks.v1+cell": {
     "cellMetadata": {},
     "inputWidgets": {},
     "nuid": "0b1bcc6e-dccb-45d7-8b72-6e3f923a7164",
     "showTitle": false,
     "tableResultSettingsMap": {},
     "title": ""
    }
   },
   "source": [
    "## Wrap and Log the Custom Model\n",
    "\n",
    "Wrap the model and define the input and output schemas. From there, run and log the model using `pyfunc` flavor.\n"
   ]
  },
  {
   "cell_type": "code",
   "execution_count": 0,
   "metadata": {
    "application/vnd.databricks.v1+cell": {
     "cellMetadata": {},
     "inputWidgets": {},
     "nuid": "9da0666b-eea3-409c-acc9-40b9cde8f8d5",
     "showTitle": false,
     "tableResultSettingsMap": {},
     "title": ""
    }
   },
   "outputs": [],
   "source": [
    "from mlflow.models import infer_signature\n",
    "\n",
    "# Wrap the model in the ModelWrapper\n",
    "wrapped_model = CustomProbaModel(rf)\n",
    "\n",
    "# Define the input and output schemas\n",
    "input_example = X_train[:1]\n",
    "output_example = wrapped_model.predict([], X_train[:1])\n",
    "signature = infer_signature(X_train[:1], output_example)\n",
    "\n",
    "# Start an MLflow run and log the model\n",
    "custom_model_name = f\"{DA.catalog_name}.{DA.schema_name}.custom_ml_model\"\n",
    "with mlflow.start_run(run_name=\"Custom Model Example\"):\n",
    "    mlflow.pyfunc.log_model(\n",
    "        \"model\",\n",
    "        python_model=wrapped_model,\n",
    "        input_example=input_example,\n",
    "        signature=signature,\n",
    "        registered_model_name=custom_model_name\n",
    "    )\n"
   ]
  },
  {
   "cell_type": "markdown",
   "metadata": {
    "application/vnd.databricks.v1+cell": {
     "cellMetadata": {},
     "inputWidgets": {},
     "nuid": "a26605f4-2551-4c39-923c-7e5621b00310",
     "showTitle": false,
     "tableResultSettingsMap": {},
     "title": ""
    }
   },
   "source": [
    "## Test Wrapped Model\n",
    "\n",
    "Before serving the model, let's test it and review the result to make sure the post-processing is implemented successfully.\n"
   ]
  },
  {
   "cell_type": "code",
   "execution_count": 0,
   "metadata": {
    "application/vnd.databricks.v1+cell": {
     "cellMetadata": {},
     "inputWidgets": {},
     "nuid": "e44f8ad2-e1c7-408f-881d-671c48ce586c",
     "showTitle": false,
     "tableResultSettingsMap": {},
     "title": ""
    }
   },
   "outputs": [],
   "source": [
    "# Load the model from the run\n",
    "run_id = mlflow.last_active_run().info.run_id\n",
    "loaded_model = mlflow.pyfunc.load_model(f\"runs:/{run_id}/model\")\n",
    "\n",
    "# Use the loaded model to predict on the test data\n",
    "y_test_ = loaded_model.predict(X_test)\n",
    "display(y_test_)\n"
   ]
  },
  {
   "cell_type": "code",
   "execution_count": 0,
   "metadata": {
    "application/vnd.databricks.v1+cell": {
     "cellMetadata": {},
     "inputWidgets": {},
     "nuid": "fe900e3a-08c6-4587-82c3-46a4aa5f8acb",
     "showTitle": false,
     "tableResultSettingsMap": {},
     "title": ""
    }
   },
   "outputs": [],
   "source": [
    "# Test custom code model\n",
    "custom_code_model = CustomCodeModel()\n",
    "y_cc_test = custom_code_model.predict([], X_train[:1])\n",
    "print(y_cc_test)\n"
   ]
  },
  {
   "cell_type": "markdown",
   "metadata": {
    "application/vnd.databricks.v1+cell": {
     "cellMetadata": {},
     "inputWidgets": {},
     "nuid": "df21a2b1-cb99-41e2-b50b-a9d8ce8f698f",
     "showTitle": false,
     "tableResultSettingsMap": {},
     "title": ""
    }
   },
   "source": [
    "## Serve the Custom Model\n",
    "\n",
    "Let's serve the model with Model Serving. Here, we will use the API to create the endpoint and serving the model.\n",
    "\n",
    "Please note that you could simply use the UI for this task too.\n"
   ]
  },
  {
   "cell_type": "code",
   "execution_count": 0,
   "metadata": {
    "application/vnd.databricks.v1+cell": {
     "cellMetadata": {},
     "inputWidgets": {},
     "nuid": "5414b986-8373-4570-aeba-a29f5b57933e",
     "showTitle": false,
     "tableResultSettingsMap": {},
     "title": ""
    }
   },
   "outputs": [],
   "source": [
    "from databricks.sdk.service.serving import EndpointCoreConfigInput\n",
    "from databricks.sdk import WorkspaceClient\n",
    "from databricks.sdk.service.serving import EndpointTag\n",
    "\n",
    "# Create/Update endpoint and deploy model+version\n",
    "w = WorkspaceClient()\n",
    "endpoint_name = \"db_academy_ml_custom_endpoint\"\n",
    "model_version = \"1\"\n",
    "endpoint_config_dict = {\n",
    "    \"served_models\": [\n",
    "        {\n",
    "            \"model_name\": custom_model_name,\n",
    "            \"model_version\": model_version,\n",
    "            \"scale_to_zero_enabled\": True,\n",
    "            \"workload_size\": \"Small\"\n",
    "        }\n",
    "    ]\n",
    "}\n",
    "\n",
    "endpoint_config = EndpointCoreConfigInput.from_dict(endpoint_config_dict)\n",
    "\n",
    "try:\n",
    "    w.serving_endpoints.create_and_wait(\n",
    "        name=endpoint_name,\n",
    "        config=endpoint_config,\n",
    "        tags=[EndpointTag.from_dict({\"key\": \"db_academy\", \"value\": \"serve_custom_model_example\"})]\n",
    "    )\n",
    "    print(f\"Creating endpoint {endpoint_name} with models {custom_model_name} versions {model_version}\")\n",
    "\n",
    "except Exception as e:\n",
    "    if \"already exists\" in e.args[0]:\n",
    "        print(f\"Endpoint with name {endpoint_name} already exists\")\n",
    "    else:\n",
    "        raise(e)\n"
   ]
  },
  {
   "cell_type": "markdown",
   "metadata": {
    "application/vnd.databricks.v1+cell": {
     "cellMetadata": {},
     "inputWidgets": {},
     "nuid": "667d03d4-157c-4c8f-b501-964999881536",
     "showTitle": false,
     "tableResultSettingsMap": {},
     "title": ""
    }
   },
   "source": [
    "## Query the Endpoint\n",
    "\n",
    "Now that the endpoint is ready, we can query it using the test-sample as shown below. Note that the `predictions` is returned as string (Yes/No) as we implemented in wrapper class.\n"
   ]
  },
  {
   "cell_type": "code",
   "execution_count": 0,
   "metadata": {
    "application/vnd.databricks.v1+cell": {
     "cellMetadata": {},
     "inputWidgets": {},
     "nuid": "b6a2d1b8-f63b-4a29-9a22-5bde75fd2735",
     "showTitle": false,
     "tableResultSettingsMap": {},
     "title": ""
    }
   },
   "outputs": [],
   "source": [
    "# Hard-code test-sample\n",
    "dataframe_records = [\n",
    "    {\"SeniorCitizen\": 0, \"tenure\": 12, \"MonthlyCharges\": 65, \"TotalCharges\": 800},\n",
    "    {\"SeniorCitizen\": 1, \"tenure\": 24, \"MonthlyCharges\": 40, \"TotalCharges\": 500}\n",
    "]\n",
    "\n",
    "print(\"Inference results:\")\n",
    "query_response = w.serving_endpoints.query(name=endpoint_name, dataframe_records=dataframe_records)\n",
    "print(query_response.predictions)\n"
   ]
  },
  {
   "cell_type": "markdown",
   "metadata": {
    "application/vnd.databricks.v1+cell": {
     "cellMetadata": {},
     "inputWidgets": {},
     "nuid": "05fb7602-8057-42d5-bbf9-2ac4fec04d0f",
     "showTitle": false,
     "tableResultSettingsMap": {},
     "title": ""
    }
   },
   "source": [
    "## Clean up Classroom\n",
    "\n",
    "Run the following cell to remove lessons-specific assets created during this lesson.\n"
   ]
  },
  {
   "cell_type": "code",
   "execution_count": 0,
   "metadata": {
    "application/vnd.databricks.v1+cell": {
     "cellMetadata": {},
     "inputWidgets": {},
     "nuid": "ea4b19a9-d63f-4f7e-b09b-559d944e8e02",
     "showTitle": false,
     "tableResultSettingsMap": {},
     "title": ""
    }
   },
   "outputs": [],
   "source": [
    "DA.cleanup()\n"
   ]
  },
  {
   "cell_type": "markdown",
   "metadata": {
    "application/vnd.databricks.v1+cell": {
     "cellMetadata": {},
     "inputWidgets": {},
     "nuid": "6f76d461-fb51-4af2-80a4-8175960a7a45",
     "showTitle": false,
     "tableResultSettingsMap": {},
     "title": ""
    }
   },
   "source": [
    "## Conclusion\n",
    "\n",
    "In this demo, we demonstrated how to build a custom model pipeline using MLflow's `PythonModel` class and serve it with Databricks Model Serving. \n",
    "\n",
    "Firstly, we defined the wrapper class with custom post-processing logic.  \n",
    "Next, we fitted the model as usual and wrapped it with the custom model.  \n",
    "Finally, we deployed the model with Model Serving and queried the serving endpoint using the API.\n"
   ]
  },
  {
   "cell_type": "code",
   "execution_count": 0,
   "metadata": {
    "application/vnd.databricks.v1+cell": {
     "cellMetadata": {},
     "inputWidgets": {},
     "nuid": "afe0f133-aeb4-42a4-9216-29fb29aad02b",
     "showTitle": false,
     "tableResultSettingsMap": {},
     "title": ""
    }
   },
   "outputs": [],
   "source": []
  },
  {
   "cell_type": "code",
   "execution_count": 0,
   "metadata": {
    "application/vnd.databricks.v1+cell": {
     "cellMetadata": {},
     "inputWidgets": {},
     "nuid": "7f2c738d-fbf9-40b5-a184-90c7e6669e6d",
     "showTitle": false,
     "tableResultSettingsMap": {},
     "title": ""
    }
   },
   "outputs": [],
   "source": []
  }
 ],
 "metadata": {
  "application/vnd.databricks.v1+notebook": {
   "computePreferences": null,
   "dashboards": [],
   "environmentMetadata": {
    "base_environment": "",
    "environment_version": "3"
   },
   "inputWidgetPreferences": null,
   "language": "python",
   "notebookMetadata": {
    "pythonIndentUnit": 4
   },
   "notebookName": "13-M3-Demo4: Custom Model Deployment with Model Serving",
   "widgets": {}
  },
  "language_info": {
   "name": "python"
  }
 },
 "nbformat": 4,
 "nbformat_minor": 0
}
